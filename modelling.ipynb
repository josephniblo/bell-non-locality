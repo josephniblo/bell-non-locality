{
 "cells": [
  {
   "cell_type": "code",
   "execution_count": 11,
   "id": "e6cf0b5b",
   "metadata": {},
   "outputs": [],
   "source": [
    "import numpy as np\n",
    "import qutip as qt"
   ]
  },
  {
   "cell_type": "code",
   "execution_count": 12,
   "id": "b28b0159",
   "metadata": {},
   "outputs": [
    {
     "data": {
      "text/latex": [
       "Quantum object: dims=[[2, 2], [1]], shape=(4, 1), type='ket', dtype=Dense$$\\left(\\begin{array}{cc}0\\\\0.618\\\\0.618\\\\0.486\\end{array}\\right)$$"
      ],
      "text/plain": [
       "Quantum object: dims=[[2, 2], [1]], shape=(4, 1), type='ket', dtype=Dense\n",
       "Qobj data =\n",
       "[[0.        ]\n",
       " [0.61803399]\n",
       " [0.61803399]\n",
       " [0.48586827]]"
      ]
     },
     "execution_count": 12,
     "metadata": {},
     "output_type": "execute_result"
    }
   ],
   "source": [
    "ket_0 = qt.basis(2, 0)\n",
    "ket_1 = qt.basis(2, 1)\n",
    "\n",
    "ket_00 = qt.tensor(ket_0, ket_0)\n",
    "ket_11 = qt.tensor(ket_1, ket_1)\n",
    "ket_01 = qt.tensor(ket_0, ket_1)\n",
    "ket_10 = qt.tensor(ket_1, ket_0)\n",
    "\n",
    "a = (np.sqrt(5) - 1) / 2\n",
    "\n",
    "ket_phi = a * (ket_01 + ket_10) + np.sqrt(1-2*a**2) * ket_11\n",
    "ket_phi"
   ]
  },
  {
   "cell_type": "code",
   "execution_count": 13,
   "id": "c98c538d",
   "metadata": {},
   "outputs": [
    {
     "data": {
      "text/latex": [
       "Quantum object: dims=[[2, 2], [2, 2]], shape=(4, 4), type='oper', dtype=Dense, isherm=True$$\\left(\\begin{array}{cc}0 & 0 & 0 & 0\\\\0 & 0.382 & 0.382 & 0.300\\\\0 & 0.382 & 0.382 & 0.300\\\\0 & 0.300 & 0.300 & 0.236\\end{array}\\right)$$"
      ],
      "text/plain": [
       "Quantum object: dims=[[2, 2], [2, 2]], shape=(4, 4), type='oper', dtype=Dense, isherm=True\n",
       "Qobj data =\n",
       "[[0.         0.         0.         0.        ]\n",
       " [0.         0.38196601 0.38196601 0.30028311]\n",
       " [0.         0.38196601 0.38196601 0.30028311]\n",
       " [0.         0.30028311 0.30028311 0.23606798]]"
      ]
     },
     "execution_count": 13,
     "metadata": {},
     "output_type": "execute_result"
    }
   ],
   "source": [
    "rho_phi = ket_phi * ket_phi.dag()\n",
    "rho_phi"
   ]
  },
  {
   "cell_type": "code",
   "execution_count": 14,
   "id": "dc1dfb4e",
   "metadata": {},
   "outputs": [
    {
     "data": {
      "text/plain": [
       "(Quantum object: dims=[[2], [2]], shape=(2, 2), type='oper', dtype=CSR, isherm=True\n",
       " Qobj data =\n",
       " [[1. 0.]\n",
       "  [0. 0.]],\n",
       " Quantum object: dims=[[2], [2]], shape=(2, 2), type='oper', dtype=CSR, isherm=True\n",
       " Qobj data =\n",
       " [[0. 0.]\n",
       "  [0. 1.]],\n",
       " Quantum object: dims=[[2], [2]], shape=(2, 2), type='oper', dtype=Dense, isherm=True\n",
       " Qobj data =\n",
       " [[ 0.38196601 -0.48586827]\n",
       "  [-0.48586827  0.61803399]],\n",
       " Quantum object: dims=[[2], [2]], shape=(2, 2), type='oper', dtype=Dense, isherm=True\n",
       " Qobj data =\n",
       " [[0.61803399 0.48586827]\n",
       "  [0.48586827 0.38196601]])"
      ]
     },
     "execution_count": 14,
     "metadata": {},
     "output_type": "execute_result"
    }
   ],
   "source": [
    "proj_0 = ket_0 * ket_0.dag()\n",
    "proj_1 = ket_1 * ket_1.dag()\n",
    "\n",
    "psi = 1 / np.sqrt(1-a**2) * (np.sqrt(1-2*a**2) * ket_0 - a * ket_1)\n",
    "proj_psi = psi * psi.dag()\n",
    "\n",
    "proj_0, proj_1, proj_psi, 1 - proj_psi"
   ]
  },
  {
   "cell_type": "code",
   "execution_count": 29,
   "id": "f8bb6d42",
   "metadata": {},
   "outputs": [
    {
     "data": {
      "text/plain": [
       "(0.0, 0.0, 0.0, (0.09016994374947418+0j))"
      ]
     },
     "execution_count": 29,
     "metadata": {},
     "output_type": "execute_result"
    }
   ],
   "source": [
    "def p(a, b, x, y):\n",
    "    if x == 1:\n",
    "        proj_a = proj_0 if a == 0 else proj_1\n",
    "    else:\n",
    "        proj_a = proj_psi if a == 0 else (1 - proj_psi)\n",
    "\n",
    "    if y == 1:\n",
    "        proj_b = proj_0 if b == 0 else proj_1\n",
    "    else:\n",
    "        proj_b = proj_psi if b == 0 else (1 - proj_psi)\n",
    "\n",
    "    proj_ab = qt.tensor(proj_a, proj_b)\n",
    "    return (proj_ab * rho_phi).tr()\n",
    "\n",
    "p(0, 1, 0, 1), p(1,0,1,0), p(0,0,1,1), p(0,0,0,0)"
   ]
  },
  {
   "cell_type": "markdown",
   "id": "16c00662",
   "metadata": {},
   "source": [
    "Note - the above has the definition of x swapped, so that when x=0, we project in the psi basis, and when x=1, we project in the logical basis"
   ]
  }
 ],
 "metadata": {
  "kernelspec": {
   "display_name": ".venv",
   "language": "python",
   "name": "python3"
  },
  "language_info": {
   "codemirror_mode": {
    "name": "ipython",
    "version": 3
   },
   "file_extension": ".py",
   "mimetype": "text/x-python",
   "name": "python",
   "nbconvert_exporter": "python",
   "pygments_lexer": "ipython3",
   "version": "3.13.5"
  }
 },
 "nbformat": 4,
 "nbformat_minor": 5
}
