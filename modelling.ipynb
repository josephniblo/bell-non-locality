{
 "cells": [
  {
   "cell_type": "code",
   "execution_count": 51,
   "id": "e6cf0b5b",
   "metadata": {},
   "outputs": [],
   "source": [
    "import numpy as np\n",
    "import qutip as qt\n",
    "import pandas as pd\n",
    "import scipy.optimize as opt"
   ]
  },
  {
   "cell_type": "markdown",
   "id": "a56ec78e",
   "metadata": {},
   "source": [
    "# Reproducing Table 1"
   ]
  },
  {
   "cell_type": "code",
   "execution_count": 3,
   "id": "b28b0159",
   "metadata": {},
   "outputs": [
    {
     "data": {
      "text/latex": [
       "Quantum object: dims=[[2, 2], [1]], shape=(4, 1), type='ket', dtype=Dense$$\\left(\\begin{array}{cc}0\\\\0.618\\\\0.618\\\\0.486\\end{array}\\right)$$"
      ],
      "text/plain": [
       "Quantum object: dims=[[2, 2], [1]], shape=(4, 1), type='ket', dtype=Dense\n",
       "Qobj data =\n",
       "[[0.        ]\n",
       " [0.61803399]\n",
       " [0.61803399]\n",
       " [0.48586827]]"
      ]
     },
     "execution_count": 3,
     "metadata": {},
     "output_type": "execute_result"
    }
   ],
   "source": [
    "ket_0 = qt.basis(2, 0)\n",
    "ket_1 = qt.basis(2, 1)\n",
    "\n",
    "ket_00 = qt.tensor(ket_0, ket_0)\n",
    "ket_11 = qt.tensor(ket_1, ket_1)\n",
    "ket_01 = qt.tensor(ket_0, ket_1)\n",
    "ket_10 = qt.tensor(ket_1, ket_0)\n",
    "\n",
    "a = (np.sqrt(5) - 1) / 2\n",
    "\n",
    "ket_phi = a * (ket_01 + ket_10) + np.sqrt(1-2*a**2) * ket_11\n",
    "ket_phi"
   ]
  },
  {
   "cell_type": "code",
   "execution_count": 4,
   "id": "c98c538d",
   "metadata": {},
   "outputs": [
    {
     "data": {
      "text/latex": [
       "Quantum object: dims=[[2, 2], [2, 2]], shape=(4, 4), type='oper', dtype=Dense, isherm=True$$\\left(\\begin{array}{cc}0 & 0 & 0 & 0\\\\0 & 0.382 & 0.382 & 0.300\\\\0 & 0.382 & 0.382 & 0.300\\\\0 & 0.300 & 0.300 & 0.236\\end{array}\\right)$$"
      ],
      "text/plain": [
       "Quantum object: dims=[[2, 2], [2, 2]], shape=(4, 4), type='oper', dtype=Dense, isherm=True\n",
       "Qobj data =\n",
       "[[0.         0.         0.         0.        ]\n",
       " [0.         0.38196601 0.38196601 0.30028311]\n",
       " [0.         0.38196601 0.38196601 0.30028311]\n",
       " [0.         0.30028311 0.30028311 0.23606798]]"
      ]
     },
     "execution_count": 4,
     "metadata": {},
     "output_type": "execute_result"
    }
   ],
   "source": [
    "rho_phi = ket_phi * ket_phi.dag()\n",
    "rho_phi"
   ]
  },
  {
   "cell_type": "code",
   "execution_count": 5,
   "id": "dc1dfb4e",
   "metadata": {},
   "outputs": [
    {
     "data": {
      "text/latex": [
       "Quantum object: dims=[[2], [2]], shape=(2, 2), type='oper', dtype=Dense, isherm=True$$\\left(\\begin{array}{cc}0.382 & -0.486\\\\-0.486 & 0.618\\end{array}\\right)$$"
      ],
      "text/plain": [
       "Quantum object: dims=[[2], [2]], shape=(2, 2), type='oper', dtype=Dense, isherm=True\n",
       "Qobj data =\n",
       "[[ 0.38196601 -0.48586827]\n",
       " [-0.48586827  0.61803399]]"
      ]
     },
     "execution_count": 5,
     "metadata": {},
     "output_type": "execute_result"
    }
   ],
   "source": [
    "psi = 1 / np.sqrt(1-a**2) * (np.sqrt(1-2*a**2) * ket_0 - a * ket_1)\n",
    "proj_psi = psi * psi.dag()\n",
    "\n",
    "proj_psi"
   ]
  },
  {
   "cell_type": "code",
   "execution_count": 6,
   "id": "4b8bddf9",
   "metadata": {},
   "outputs": [
    {
     "data": {
      "text/latex": [
       "Quantum object: dims=[[2, 2], [2, 2]], shape=(4, 4), type='oper', dtype=Dense, isherm=True$$\\left(\\begin{array}{cc}0.146 & -0.186 & -0.186 & 0.236\\\\-0.186 & 0.236 & 0.236 & -0.300\\\\-0.186 & 0.236 & 0.236 & -0.300\\\\0.236 & -0.300 & -0.300 & 0.382\\end{array}\\right)$$"
      ],
      "text/plain": [
       "Quantum object: dims=[[2, 2], [2, 2]], shape=(4, 4), type='oper', dtype=Dense, isherm=True\n",
       "Qobj data =\n",
       "[[ 0.14589803 -0.18558517 -0.18558517  0.23606798]\n",
       " [-0.18558517  0.23606798  0.23606798 -0.30028311]\n",
       " [-0.18558517  0.23606798  0.23606798 -0.30028311]\n",
       " [ 0.23606798 -0.30028311 -0.30028311  0.38196601]]"
      ]
     },
     "execution_count": 6,
     "metadata": {},
     "output_type": "execute_result"
    }
   ],
   "source": [
    "proj_psi_psi = qt.tensor(proj_psi, proj_psi)\n",
    "proj_psi_psi"
   ]
  },
  {
   "cell_type": "code",
   "execution_count": 7,
   "id": "be0cb697",
   "metadata": {},
   "outputs": [],
   "source": [
    "def p_n_k_from_inverted(n):\n",
    "    proj_excluded = 1-proj_psi_psi\n",
    "\n",
    "    rho_n = ket_phi * ket_phi.dag()\n",
    "\n",
    "    return 1 - (proj_excluded * rho_n).tr() ** n"
   ]
  },
  {
   "cell_type": "code",
   "execution_count": 8,
   "id": "b4ea17a3",
   "metadata": {},
   "outputs": [
    {
     "data": {
      "text/plain": [
       "(0.6113105109748465+0j)"
      ]
     },
     "execution_count": 8,
     "metadata": {},
     "output_type": "execute_result"
    }
   ],
   "source": [
    "p_n_k_from_inverted(10)"
   ]
  },
  {
   "cell_type": "code",
   "execution_count": 9,
   "id": "f0ae44f8",
   "metadata": {},
   "outputs": [
    {
     "data": {
      "image/png": "[encoded data removed]",
      "text/plain": [
       "<Figure size 640x480 with 1 Axes>"
      ]
     },
     "metadata": {},
     "output_type": "display_data"
    }
   ],
   "source": [
    "# plot the P(n, k) values for n in [1, 20]\n",
    "import matplotlib.pyplot as plt\n",
    "\n",
    "x = list(range(1, 41))\n",
    "y = [p_n_k_from_inverted(i) for i in x]\n",
    "\n",
    "# Convert complex values to real to avoid matplotlib warnings\n",
    "y_real = [val.real if hasattr(val, 'real') else val for val in y]\n",
    "\n",
    "plt.plot(x, y_real)\n",
    "plt.xlabel('n')\n",
    "plt.ylabel('PNH')\n",
    "\n",
    "plt.grid()\n",
    "\n",
    "plt.savefig('P_N_H.png')\n",
    "plt.show()"
   ]
  },
  {
   "cell_type": "code",
   "execution_count": 10,
   "id": "056ee39b",
   "metadata": {},
   "outputs": [
    {
     "data": {
      "image/png": "[encoded data removed]",
      "text/plain": [
       "<Figure size 640x480 with 1 Axes>"
      ]
     },
     "metadata": {},
     "output_type": "display_data"
    }
   ],
   "source": [
    "# plot epsillon = 1 - root(1 - P(n, k))\n",
    "import matplotlib.pyplot as plt\n",
    "x = list(range(1, 41))\n",
    "y = [1 - np.sqrt(1 - p_n_k_from_inverted(i)) for i in x]\n",
    "\n",
    "# Convert complex values to real to avoid matplotlib warnings\n",
    "y_real = [val.real if hasattr(val, 'real') else val for val in y]\n",
    "\n",
    "plt.plot(x, y_real)\n",
    "plt.xlabel('n')\n",
    "plt.ylabel('epsillon bound')\n",
    "plt.grid()\n",
    "\n",
    "plt.savefig('epsillon_bound.png')\n",
    "plt.show()"
   ]
  },
  {
   "cell_type": "markdown",
   "id": "6bdb6c9c",
   "metadata": {},
   "source": [
    "# Checking eq. 14"
   ]
  },
  {
   "cell_type": "code",
   "execution_count": 11,
   "id": "8d8558ea",
   "metadata": {},
   "outputs": [
    {
     "data": {
      "text/plain": [
       "(Quantum object: dims=[[2], [2]], shape=(2, 2), type='oper', dtype=CSR, isherm=True\n",
       " Qobj data =\n",
       " [[1. 0.]\n",
       "  [0. 0.]],\n",
       " Quantum object: dims=[[2], [2]], shape=(2, 2), type='oper', dtype=CSR, isherm=True\n",
       " Qobj data =\n",
       " [[0. 0.]\n",
       "  [0. 1.]])"
      ]
     },
     "execution_count": 11,
     "metadata": {},
     "output_type": "execute_result"
    }
   ],
   "source": [
    "proj_0 = ket_0 * ket_0.dag()\n",
    "proj_1 = ket_1 * ket_1.dag()\n",
    "\n",
    "proj_0, proj_1"
   ]
  },
  {
   "cell_type": "markdown",
   "id": "41d11e79",
   "metadata": {},
   "source": [
    "## 14a"
   ]
  },
  {
   "cell_type": "code",
   "execution_count": 12,
   "id": "7dd66646",
   "metadata": {},
   "outputs": [
    {
     "data": {
      "text/latex": [
       "Quantum object: dims=[[2, 2], [2, 2]], shape=(4, 4), type='oper', dtype=CSR, isherm=True$$\\left(\\begin{array}{cc}0 & 0 & 0 & 0\\\\0 & 0.382 & 0 & -0.486\\\\0 & 0 & 0 & 0\\\\0 & -0.486 & 0 & 0.618\\end{array}\\right)$$"
      ],
      "text/plain": [
       "Quantum object: dims=[[2, 2], [2, 2]], shape=(4, 4), type='oper', dtype=CSR, isherm=True\n",
       "Qobj data =\n",
       "[[ 0.          0.          0.          0.        ]\n",
       " [ 0.          0.38196601  0.         -0.48586827]\n",
       " [ 0.          0.          0.          0.        ]\n",
       " [ 0.         -0.48586827  0.          0.61803399]]"
      ]
     },
     "execution_count": 12,
     "metadata": {},
     "output_type": "execute_result"
    }
   ],
   "source": [
    "proj_psi_1 = qt.tensor(proj_psi, proj_1)\n",
    "proj_psi_1"
   ]
  },
  {
   "cell_type": "code",
   "execution_count": 13,
   "id": "e5e2f14d",
   "metadata": {},
   "outputs": [
    {
     "data": {
      "text/plain": [
       "0.0"
      ]
     },
     "execution_count": 13,
     "metadata": {},
     "output_type": "execute_result"
    }
   ],
   "source": [
    "s_01 = 1 - ((1-proj_psi_1) * rho_phi).tr()\n",
    "s_01"
   ]
  },
  {
   "cell_type": "markdown",
   "id": "b4dcebf5",
   "metadata": {},
   "source": [
    "## 14b"
   ]
  },
  {
   "cell_type": "code",
   "execution_count": 14,
   "id": "5c8d6ce5",
   "metadata": {},
   "outputs": [
    {
     "data": {
      "text/latex": [
       "Quantum object: dims=[[2, 2], [2, 2]], shape=(4, 4), type='oper', dtype=CSR, isherm=True$$\\left(\\begin{array}{cc}0 & 0 & 0 & 0\\\\0 & 0 & 0 & 0\\\\0 & 0 & 0.382 & -0.486\\\\0 & 0 & -0.486 & 0.618\\end{array}\\right)$$"
      ],
      "text/plain": [
       "Quantum object: dims=[[2, 2], [2, 2]], shape=(4, 4), type='oper', dtype=CSR, isherm=True\n",
       "Qobj data =\n",
       "[[ 0.          0.          0.          0.        ]\n",
       " [ 0.          0.          0.          0.        ]\n",
       " [ 0.          0.          0.38196601 -0.48586827]\n",
       " [ 0.          0.         -0.48586827  0.61803399]]"
      ]
     },
     "execution_count": 14,
     "metadata": {},
     "output_type": "execute_result"
    }
   ],
   "source": [
    "proj_1_psi = qt.tensor(proj_1, proj_psi)\n",
    "proj_1_psi"
   ]
  },
  {
   "cell_type": "code",
   "execution_count": 15,
   "id": "0c984384",
   "metadata": {},
   "outputs": [
    {
     "data": {
      "text/plain": [
       "0.0"
      ]
     },
     "execution_count": 15,
     "metadata": {},
     "output_type": "execute_result"
    }
   ],
   "source": [
    "s_10 = 1 - ((1-proj_1_psi) * rho_phi).tr()\n",
    "s_10"
   ]
  },
  {
   "cell_type": "markdown",
   "id": "484d072a",
   "metadata": {},
   "source": [
    "## 14c"
   ]
  },
  {
   "cell_type": "code",
   "execution_count": 16,
   "id": "a8246052",
   "metadata": {},
   "outputs": [
    {
     "data": {
      "text/latex": [
       "Quantum object: dims=[[2, 2], [2, 2]], shape=(4, 4), type='oper', dtype=CSR, isherm=True$$\\left(\\begin{array}{cc}1 & 0 & 0 & 0\\\\0 & 0 & 0 & 0\\\\0 & 0 & 0 & 0\\\\0 & 0 & 0 & 0\\end{array}\\right)$$"
      ],
      "text/plain": [
       "Quantum object: dims=[[2, 2], [2, 2]], shape=(4, 4), type='oper', dtype=CSR, isherm=True\n",
       "Qobj data =\n",
       "[[1. 0. 0. 0.]\n",
       " [0. 0. 0. 0.]\n",
       " [0. 0. 0. 0.]\n",
       " [0. 0. 0. 0.]]"
      ]
     },
     "execution_count": 16,
     "metadata": {},
     "output_type": "execute_result"
    }
   ],
   "source": [
    "proj_0_0 = qt.tensor(proj_0, proj_0)\n",
    "proj_0_0"
   ]
  },
  {
   "cell_type": "code",
   "execution_count": 17,
   "id": "e0de3a13",
   "metadata": {},
   "outputs": [
    {
     "data": {
      "text/plain": [
       "0.0"
      ]
     },
     "execution_count": 17,
     "metadata": {},
     "output_type": "execute_result"
    }
   ],
   "source": [
    "# GIVEN 1, 1 !\n",
    "s_00 = 1 - ((1-proj_0_0) * rho_phi).tr()\n",
    "s_00"
   ]
  },
  {
   "cell_type": "markdown",
   "id": "7b252928",
   "metadata": {},
   "source": [
    "# Adding Noise"
   ]
  },
  {
   "cell_type": "code",
   "execution_count": 18,
   "id": "39ad2639",
   "metadata": {},
   "outputs": [],
   "source": [
    "def I(n, rho, kappa):\n",
    "    p_nh = 1 - ((1-proj_psi_psi) * rho).tr() ** n\n",
    "\n",
    "    s_01 = 1 - ((1-proj_psi_1) * rho).tr() ** n\n",
    "    s_10 = 1 - ((1-proj_1_psi) * rho).tr() ** n\n",
    "    s_00 = 1 - ((1-proj_0_0) * rho).tr() ** n\n",
    "\n",
    "    return p_nh - kappa * (s_01 + s_10 + s_00)"
   ]
  },
  {
   "cell_type": "code",
   "execution_count": 19,
   "id": "92435af3",
   "metadata": {},
   "outputs": [
    {
     "data": {
      "text/plain": [
       "(0.6113105109748465+0j)"
      ]
     },
     "execution_count": 19,
     "metadata": {},
     "output_type": "execute_result"
    }
   ],
   "source": [
    "I(10, rho_phi, 100)"
   ]
  },
  {
   "cell_type": "code",
   "execution_count": 20,
   "id": "073a15c1",
   "metadata": {},
   "outputs": [
    {
     "data": {
      "text/plain": [
       "(Quantum object: dims=[[2, 2], [2, 2]], shape=(4, 4), type='oper', dtype=Dense, isherm=True\n",
       " Qobj data =\n",
       " [[0.         0.         0.         0.        ]\n",
       "  [0.         0.38196601 0.38196601 0.30028311]\n",
       "  [0.         0.38196601 0.38196601 0.30028311]\n",
       "  [0.         0.30028311 0.30028311 0.23606798]],\n",
       " Quantum object: dims=[[2, 2], [2, 2]], shape=(4, 4), type='oper', dtype=Dense, isherm=True\n",
       " Qobj data =\n",
       " [[0.025      0.         0.         0.        ]\n",
       "  [0.         0.36876941 0.34376941 0.2702548 ]\n",
       "  [0.         0.34376941 0.36876941 0.2702548 ]\n",
       "  [0.         0.2702548  0.2702548  0.23746118]],\n",
       " (-3.1377085589466898+0j))"
      ]
     },
     "execution_count": 20,
     "metadata": {},
     "output_type": "execute_result"
    }
   ],
   "source": [
    "noise = 0.1\n",
    "\n",
    "rho_noisy_phi = (1 - noise) * rho_phi + (noise) / 4\n",
    "rho_phi, rho_noisy_phi, I(n=5, rho=rho_noisy_phi, kappa=10)"
   ]
  },
  {
   "cell_type": "markdown",
   "id": "8faf88e4",
   "metadata": {},
   "source": [
    "## Restricting $\\epsilon$ from $I$"
   ]
  },
  {
   "cell_type": "code",
   "execution_count": null,
   "id": "ab9f2450",
   "metadata": {},
   "outputs": [
    {
     "data": {
      "text/plain": [
       "np.float64(0.03563492390070455)"
      ]
     },
     "execution_count": 21,
     "metadata": {},
     "output_type": "execute_result"
    }
   ],
   "source": [
    "# eq 18\n",
    "def get_epsilon_tilde_bound(I):\n",
    "    return 1 - np.sqrt(1 - I)\n",
    "\n",
    "get_epsilon_tilde_bound(0.07)"
   ]
  },
  {
   "cell_type": "code",
   "execution_count": 22,
   "id": "86c170d2",
   "metadata": {},
   "outputs": [
    {
     "data": {
      "text/plain": [
       "np.float64(-7.794965809277261)"
      ]
     },
     "execution_count": 22,
     "metadata": {},
     "output_type": "execute_result"
    }
   ],
   "source": [
    "# eq 21\n",
    "def get_epsilon_bound(epsilon_tilde_bound, n, l, kappa):\n",
    "    return epsilon_tilde_bound - n * np.sqrt(2 / l / kappa)\n",
    "\n",
    "get_epsilon_bound(0.37, n=10, l=0.1, kappa=30)"
   ]
  },
  {
   "cell_type": "code",
   "execution_count": 50,
   "id": "deb8bc45",
   "metadata": {},
   "outputs": [
    {
     "data": {
      "text/html": [
       "<div>\n",
       "<style scoped>\n",
       "    .dataframe tbody tr th:only-of-type {\n",
       "        vertical-align: middle;\n",
       "    }\n",
       "\n",
       "    .dataframe tbody tr th {\n",
       "        vertical-align: top;\n",
       "    }\n",
       "\n",
       "    .dataframe thead th {\n",
       "        text-align: right;\n",
       "    }\n",
       "</style>\n",
       "<table border=\"1\" class=\"dataframe\">\n",
       "  <thead>\n",
       "    <tr style=\"text-align: right;\">\n",
       "      <th></th>\n",
       "      <th>n</th>\n",
       "      <th>noise</th>\n",
       "      <th>kappa</th>\n",
       "      <th>l</th>\n",
       "      <th>I</th>\n",
       "      <th>epsilon_tilde_bound</th>\n",
       "      <th>epsilon_bound</th>\n",
       "    </tr>\n",
       "  </thead>\n",
       "  <tbody>\n",
       "    <tr>\n",
       "      <th>23481</th>\n",
       "      <td>3</td>\n",
       "      <td>2.511886e-06</td>\n",
       "      <td>12589.254118</td>\n",
       "      <td>0.25</td>\n",
       "      <td>0.175701+0.000000j</td>\n",
       "      <td>0.092091+0.000000j</td>\n",
       "      <td>0.016466+0.000000j</td>\n",
       "    </tr>\n",
       "    <tr>\n",
       "      <th>23479</th>\n",
       "      <td>3</td>\n",
       "      <td>2.511886e-06</td>\n",
       "      <td>11220.184543</td>\n",
       "      <td>0.25</td>\n",
       "      <td>0.183439+0.000000j</td>\n",
       "      <td>0.096362+0.000000j</td>\n",
       "      <td>0.016256+0.000000j</td>\n",
       "    </tr>\n",
       "    <tr>\n",
       "      <th>31923</th>\n",
       "      <td>4</td>\n",
       "      <td>2.511886e-06</td>\n",
       "      <td>12589.254118</td>\n",
       "      <td>0.25</td>\n",
       "      <td>0.219895+0.000000j</td>\n",
       "      <td>0.116765+0.000000j</td>\n",
       "      <td>0.015931+0.000000j</td>\n",
       "    </tr>\n",
       "    <tr>\n",
       "      <th>23483</th>\n",
       "      <td>3</td>\n",
       "      <td>2.511886e-06</td>\n",
       "      <td>14125.375446</td>\n",
       "      <td>0.25</td>\n",
       "      <td>0.167019+0.000000j</td>\n",
       "      <td>0.087322+0.000000j</td>\n",
       "      <td>0.015927+0.000000j</td>\n",
       "    </tr>\n",
       "    <tr>\n",
       "      <th>31921</th>\n",
       "      <td>4</td>\n",
       "      <td>2.511886e-06</td>\n",
       "      <td>11220.184543</td>\n",
       "      <td>0.25</td>\n",
       "      <td>0.230212+0.000000j</td>\n",
       "      <td>0.122625+0.000000j</td>\n",
       "      <td>0.015816+0.000000j</td>\n",
       "    </tr>\n",
       "    <tr>\n",
       "      <th>...</th>\n",
       "      <td>...</td>\n",
       "      <td>...</td>\n",
       "      <td>...</td>\n",
       "      <td>...</td>\n",
       "      <td>...</td>\n",
       "      <td>...</td>\n",
       "      <td>...</td>\n",
       "    </tr>\n",
       "    <tr>\n",
       "      <th>148</th>\n",
       "      <td>1</td>\n",
       "      <td>1.000000e-12</td>\n",
       "      <td>5011.872336</td>\n",
       "      <td>0.20</td>\n",
       "      <td>0.090170+0.000000j</td>\n",
       "      <td>0.046150+0.000000j</td>\n",
       "      <td>0.001482+0.000000j</td>\n",
       "    </tr>\n",
       "    <tr>\n",
       "      <th>145</th>\n",
       "      <td>1</td>\n",
       "      <td>1.000000e-12</td>\n",
       "      <td>3981.071706</td>\n",
       "      <td>0.25</td>\n",
       "      <td>0.090170+0.000000j</td>\n",
       "      <td>0.046150+0.000000j</td>\n",
       "      <td>0.001322+0.000000j</td>\n",
       "    </tr>\n",
       "    <tr>\n",
       "      <th>8590</th>\n",
       "      <td>2</td>\n",
       "      <td>1.000000e-12</td>\n",
       "      <td>5011.872336</td>\n",
       "      <td>0.20</td>\n",
       "      <td>0.172209+0.000000j</td>\n",
       "      <td>0.090170+0.000000j</td>\n",
       "      <td>0.000833+0.000000j</td>\n",
       "    </tr>\n",
       "    <tr>\n",
       "      <th>76132</th>\n",
       "      <td>10</td>\n",
       "      <td>1.000000e-12</td>\n",
       "      <td>7079.457844</td>\n",
       "      <td>0.20</td>\n",
       "      <td>0.611310+0.000000j</td>\n",
       "      <td>0.376550+0.000000j</td>\n",
       "      <td>0.000713+0.000000j</td>\n",
       "    </tr>\n",
       "    <tr>\n",
       "      <th>8587</th>\n",
       "      <td>2</td>\n",
       "      <td>1.000000e-12</td>\n",
       "      <td>3981.071706</td>\n",
       "      <td>0.25</td>\n",
       "      <td>0.172209+0.000000j</td>\n",
       "      <td>0.090170+0.000000j</td>\n",
       "      <td>0.000515+0.000000j</td>\n",
       "    </tr>\n",
       "  </tbody>\n",
       "</table>\n",
       "<p>50745 rows × 7 columns</p>\n",
       "</div>"
      ],
      "text/plain": [
       "        n         noise         kappa     l                   I  \\\n",
       "23481   3  2.511886e-06  12589.254118  0.25  0.175701+0.000000j   \n",
       "23479   3  2.511886e-06  11220.184543  0.25  0.183439+0.000000j   \n",
       "31923   4  2.511886e-06  12589.254118  0.25  0.219895+0.000000j   \n",
       "23483   3  2.511886e-06  14125.375446  0.25  0.167019+0.000000j   \n",
       "31921   4  2.511886e-06  11220.184543  0.25  0.230212+0.000000j   \n",
       "...    ..           ...           ...   ...                 ...   \n",
       "148     1  1.000000e-12   5011.872336  0.20  0.090170+0.000000j   \n",
       "145     1  1.000000e-12   3981.071706  0.25  0.090170+0.000000j   \n",
       "8590    2  1.000000e-12   5011.872336  0.20  0.172209+0.000000j   \n",
       "76132  10  1.000000e-12   7079.457844  0.20  0.611310+0.000000j   \n",
       "8587    2  1.000000e-12   3981.071706  0.25  0.172209+0.000000j   \n",
       "\n",
       "       epsilon_tilde_bound       epsilon_bound  \n",
       "23481   0.092091+0.000000j  0.016466+0.000000j  \n",
       "23479   0.096362+0.000000j  0.016256+0.000000j  \n",
       "31923   0.116765+0.000000j  0.015931+0.000000j  \n",
       "23483   0.087322+0.000000j  0.015927+0.000000j  \n",
       "31921   0.122625+0.000000j  0.015816+0.000000j  \n",
       "...                    ...                 ...  \n",
       "148     0.046150+0.000000j  0.001482+0.000000j  \n",
       "145     0.046150+0.000000j  0.001322+0.000000j  \n",
       "8590    0.090170+0.000000j  0.000833+0.000000j  \n",
       "76132   0.376550+0.000000j  0.000713+0.000000j  \n",
       "8587    0.090170+0.000000j  0.000515+0.000000j  \n",
       "\n",
       "[50745 rows x 7 columns]"
      ]
     },
     "execution_count": 50,
     "metadata": {},
     "output_type": "execute_result"
    }
   ],
   "source": [
    "# Arrange \"realistic\" parameters\n",
    "n_range = range(1, 21)\n",
    "noise_range = np.logspace(-12, -4, 21) # The noise has to be REALLY small, otherwise there are no positive epsilon bounds\n",
    "kappa_range = np.logspace(0, 10, 201) \n",
    "l_range = [0.2, 1/4]\n",
    "\n",
    "data_list = []\n",
    "\n",
    "for n in n_range:\n",
    "    for noise in noise_range:\n",
    "        for kappa in kappa_range:\n",
    "            for l in l_range:\n",
    "                rho_noisy_phi = (1 - noise) * rho_phi + (noise) / 4\n",
    "                I_val = I(n, rho_noisy_phi, kappa)\n",
    "                epsilon_tilde_bound = get_epsilon_tilde_bound(I_val)\n",
    "                epsilon_bound = get_epsilon_bound(epsilon_tilde_bound, n, l, kappa)\n",
    "                data_list.append({\n",
    "                    'n': n,\n",
    "                    'noise': noise,\n",
    "                    'kappa': kappa,\n",
    "                    'l': l,\n",
    "                    'I': I_val,\n",
    "                    'epsilon_tilde_bound': epsilon_tilde_bound,\n",
    "                    'epsilon_bound': epsilon_bound\n",
    "                })\n",
    "\n",
    "# Create DataFrame from list of dictionaries\n",
    "df = pd.DataFrame(data_list)\n",
    "df = df.sort_values(by=['noise', 'epsilon_bound'], ascending=False)\n",
    "\n",
    "# Look for positive epsilon bounds with noise on the state\n",
    "positive_epsilon = df['epsilon_bound'] > 0\n",
    "non_zero_noise = df['noise'] > 0\n",
    "df[positive_epsilon & non_zero_noise]"
   ]
  },
  {
   "cell_type": "markdown",
   "id": "c8888160",
   "metadata": {},
   "source": [
    "Looks like we can only survive about $10^{-6}$ noise in this noise model which is not experimentally accessible"
   ]
  },
  {
   "cell_type": "code",
   "execution_count": 137,
   "id": "623b9bbd",
   "metadata": {},
   "outputs": [
    {
     "data": {
      "text/html": [
       "<div>\n",
       "<style scoped>\n",
       "    .dataframe tbody tr th:only-of-type {\n",
       "        vertical-align: middle;\n",
       "    }\n",
       "\n",
       "    .dataframe tbody tr th {\n",
       "        vertical-align: top;\n",
       "    }\n",
       "\n",
       "    .dataframe thead th {\n",
       "        text-align: right;\n",
       "    }\n",
       "</style>\n",
       "<table border=\"1\" class=\"dataframe\">\n",
       "  <thead>\n",
       "    <tr style=\"text-align: right;\">\n",
       "      <th></th>\n",
       "      <th>n</th>\n",
       "      <th>noise</th>\n",
       "      <th>kappa_opt</th>\n",
       "      <th>l</th>\n",
       "      <th>rho_phi</th>\n",
       "      <th>epsilon_bound_opt</th>\n",
       "    </tr>\n",
       "  </thead>\n",
       "  <tbody>\n",
       "    <tr>\n",
       "      <th>0</th>\n",
       "      <td>1</td>\n",
       "      <td>1.000000e-12</td>\n",
       "      <td>2.348639e+08+0.000000e+                    00j</td>\n",
       "      <td>0.25</td>\n",
       "      <td>Quantum object: dims=[[2, 2], [2, 2]], shape=(...</td>\n",
       "      <td>0.045873+0.000000j</td>\n",
       "    </tr>\n",
       "    <tr>\n",
       "      <th>1</th>\n",
       "      <td>1</td>\n",
       "      <td>1.220715e-12</td>\n",
       "      <td>2.055958e+08+0.000000e+                    00j</td>\n",
       "      <td>0.25</td>\n",
       "      <td>Quantum object: dims=[[2, 2], [2, 2]], shape=(...</td>\n",
       "      <td>0.045854+0.000000j</td>\n",
       "    </tr>\n",
       "    <tr>\n",
       "      <th>2</th>\n",
       "      <td>1</td>\n",
       "      <td>1.490144e-12</td>\n",
       "      <td>1.799835e+08+0.000000e+                    00j</td>\n",
       "      <td>0.25</td>\n",
       "      <td>Quantum object: dims=[[2, 2], [2, 2]], shape=(...</td>\n",
       "      <td>0.045834+0.000000j</td>\n",
       "    </tr>\n",
       "    <tr>\n",
       "      <th>3</th>\n",
       "      <td>1</td>\n",
       "      <td>1.819041e-12</td>\n",
       "      <td>1.575639e+08+0.000000e+                    00j</td>\n",
       "      <td>0.25</td>\n",
       "      <td>Quantum object: dims=[[2, 2], [2, 2]], shape=(...</td>\n",
       "      <td>0.045812+0.000000j</td>\n",
       "    </tr>\n",
       "    <tr>\n",
       "      <th>4</th>\n",
       "      <td>1</td>\n",
       "      <td>2.220530e-12</td>\n",
       "      <td>1.379491e+08+0.000000e+                    00j</td>\n",
       "      <td>0.25</td>\n",
       "      <td>Quantum object: dims=[[2, 2], [2, 2]], shape=(...</td>\n",
       "      <td>0.045789+0.000000j</td>\n",
       "    </tr>\n",
       "    <tr>\n",
       "      <th>...</th>\n",
       "      <td>...</td>\n",
       "      <td>...</td>\n",
       "      <td>...</td>\n",
       "      <td>...</td>\n",
       "      <td>...</td>\n",
       "      <td>...</td>\n",
       "    </tr>\n",
       "    <tr>\n",
       "      <th>1275</th>\n",
       "      <td>10</td>\n",
       "      <td>4.503429e-02</td>\n",
       "      <td>5.046031e+01+0.000000e+                    00j</td>\n",
       "      <td>0.25</td>\n",
       "      <td>Quantum object: dims=[[2, 2], [2, 2]], shape=(...</td>\n",
       "      <td>-7.051638+0.000000j</td>\n",
       "    </tr>\n",
       "    <tr>\n",
       "      <th>1276</th>\n",
       "      <td>10</td>\n",
       "      <td>5.497402e-02</td>\n",
       "      <td>4.587240e+01+0.000000e+                    00j</td>\n",
       "      <td>0.25</td>\n",
       "      <td>Quantum object: dims=[[2, 2], [2, 2]], shape=(...</td>\n",
       "      <td>-7.434994+0.000000j</td>\n",
       "    </tr>\n",
       "    <tr>\n",
       "      <th>1277</th>\n",
       "      <td>10</td>\n",
       "      <td>6.710759e-02</td>\n",
       "      <td>4.175573e+01+0.000000e+                    00j</td>\n",
       "      <td>0.25</td>\n",
       "      <td>Quantum object: dims=[[2, 2], [2, 2]], shape=(...</td>\n",
       "      <td>-7.831708+0.000000j</td>\n",
       "    </tr>\n",
       "    <tr>\n",
       "      <th>1278</th>\n",
       "      <td>10</td>\n",
       "      <td>8.191922e-02</td>\n",
       "      <td>3.806726e+01+0.000000e+                    00j</td>\n",
       "      <td>0.25</td>\n",
       "      <td>Quantum object: dims=[[2, 2], [2, 2]], shape=(...</td>\n",
       "      <td>-8.240728+0.000000j</td>\n",
       "    </tr>\n",
       "    <tr>\n",
       "      <th>1279</th>\n",
       "      <td>10</td>\n",
       "      <td>1.000000e-01</td>\n",
       "      <td>3.476877e+01+0.000000e+                    00j</td>\n",
       "      <td>0.25</td>\n",
       "      <td>Quantum object: dims=[[2, 2], [2, 2]], shape=(...</td>\n",
       "      <td>-8.660508+0.000000j</td>\n",
       "    </tr>\n",
       "  </tbody>\n",
       "</table>\n",
       "<p>1280 rows × 6 columns</p>\n",
       "</div>"
      ],
      "text/plain": [
       "       n         noise                                       kappa_opt     l  \\\n",
       "0      1  1.000000e-12  2.348639e+08+0.000000e+                    00j  0.25   \n",
       "1      1  1.220715e-12  2.055958e+08+0.000000e+                    00j  0.25   \n",
       "2      1  1.490144e-12  1.799835e+08+0.000000e+                    00j  0.25   \n",
       "3      1  1.819041e-12  1.575639e+08+0.000000e+                    00j  0.25   \n",
       "4      1  2.220530e-12  1.379491e+08+0.000000e+                    00j  0.25   \n",
       "...   ..           ...                                             ...   ...   \n",
       "1275  10  4.503429e-02  5.046031e+01+0.000000e+                    00j  0.25   \n",
       "1276  10  5.497402e-02  4.587240e+01+0.000000e+                    00j  0.25   \n",
       "1277  10  6.710759e-02  4.175573e+01+0.000000e+                    00j  0.25   \n",
       "1278  10  8.191922e-02  3.806726e+01+0.000000e+                    00j  0.25   \n",
       "1279  10  1.000000e-01  3.476877e+01+0.000000e+                    00j  0.25   \n",
       "\n",
       "                                                rho_phi   epsilon_bound_opt  \n",
       "0     Quantum object: dims=[[2, 2], [2, 2]], shape=(...  0.045873+0.000000j  \n",
       "1     Quantum object: dims=[[2, 2], [2, 2]], shape=(...  0.045854+0.000000j  \n",
       "2     Quantum object: dims=[[2, 2], [2, 2]], shape=(...  0.045834+0.000000j  \n",
       "3     Quantum object: dims=[[2, 2], [2, 2]], shape=(...  0.045812+0.000000j  \n",
       "4     Quantum object: dims=[[2, 2], [2, 2]], shape=(...  0.045789+0.000000j  \n",
       "...                                                 ...                 ...  \n",
       "1275  Quantum object: dims=[[2, 2], [2, 2]], shape=(... -7.051638+0.000000j  \n",
       "1276  Quantum object: dims=[[2, 2], [2, 2]], shape=(... -7.434994+0.000000j  \n",
       "1277  Quantum object: dims=[[2, 2], [2, 2]], shape=(... -7.831708+0.000000j  \n",
       "1278  Quantum object: dims=[[2, 2], [2, 2]], shape=(... -8.240728+0.000000j  \n",
       "1279  Quantum object: dims=[[2, 2], [2, 2]], shape=(... -8.660508+0.000000j  \n",
       "\n",
       "[1280 rows x 6 columns]"
      ]
     },
     "execution_count": 137,
     "metadata": {},
     "output_type": "execute_result"
    }
   ],
   "source": [
    "n_range = range(1, 11)\n",
    "l = 1/4 \n",
    "\n",
    "# Optimise over kappa for fixed n and noise to find maximum epsilon bound\n",
    "\n",
    "noise_range = np.logspace(-12, -1, 128)\n",
    "\n",
    "data_list = []\n",
    "\n",
    "for n in n_range:\n",
    "    for noise in noise_range:\n",
    "        result = opt.minimize_scalar(lambda kappa: -get_epsilon_bound(\n",
    "            get_epsilon_tilde_bound(I(n, (1 - noise) * rho_phi + (noise) / 4, kappa)),\n",
    "            n, l, kappa\n",
    "        ), bounds=(1, 1e10), method='bounded')\n",
    "        if result.success:\n",
    "            kappa_opt = result.x\n",
    "            epsilon_bound_opt = -result.fun\n",
    "            data_list.append({\n",
    "                'n': n,\n",
    "                'noise': noise,\n",
    "                'kappa_opt': kappa_opt,\n",
    "                'l': l,\n",
    "                'rho_phi': rho_phi,\n",
    "                'epsilon_bound_opt': epsilon_bound_opt\n",
    "            })\n",
    "        else:\n",
    "            print(f\"Optimization failed for noise: {noise:.2e}\")\n",
    "# Create DataFrame from list of dictionaries\n",
    "df = pd.DataFrame(data_list)\n",
    "\n",
    "df"
   ]
  },
  {
   "cell_type": "code",
   "execution_count": 166,
   "id": "5dc11605",
   "metadata": {},
   "outputs": [
    {
     "name": "stderr",
     "output_type": "stream",
     "text": [
      "/Users/Joseph/Documents/PhD/projects/bell-non-locality/.venv/lib/python3.13/site-packages/matplotlib/cbook.py:1719: ComplexWarning: Casting complex values to real discards the imaginary part\n",
      "  return math.isfinite(val)\n",
      "/Users/Joseph/Documents/PhD/projects/bell-non-locality/.venv/lib/python3.13/site-packages/matplotlib/cbook.py:1355: ComplexWarning: Casting complex values to real discards the imaginary part\n",
      "  return np.asarray(x, float)\n"
     ]
    },
    {
     "data": {
      "image/png": "[encoded data removed]",
      "text/plain": [
       "<Figure size 640x480 with 1 Axes>"
      ]
     },
     "metadata": {},
     "output_type": "display_data"
    }
   ],
   "source": [
    "# plot the results with colour for n values\n",
    "x = df['noise']\n",
    "y = df['epsilon_bound_opt']\n",
    "colors = df['n'].astype(int) / df['n'].max()\n",
    "\n",
    "# add line between points with same n value\n",
    "for n in df['n'].unique():\n",
    "    df_n = df[df['n'] == n]\n",
    "    plt.plot(df_n['noise'], df_n['epsilon_bound_opt'], label=f'N={n}', color=plt.cm.viridis(n / df['n'].max()))\n",
    "plt.legend()\n",
    "plt.xscale('log')\n",
    "\n",
    "# Add a line at y=0\n",
    "plt.axhline(0, color='red', linestyle='--')\n",
    "\n",
    "plt.xlim(1e-12, 1e-4)\n",
    "plt.ylim(-0.1, 0.4)\n",
    "\n",
    "plt.xlabel('p (Noise)')\n",
    "plt.ylabel('Epsilon Bound')\n",
    "plt.title('Epsilon Bound vs Noise')\n",
    "\n",
    "plt.rcParams['text.usetex'] = True\n",
    "# use a nice font\n",
    "plt.rcParams['font.family'] = 'computer modern'\n",
    "\n",
    "# add text box with the noise model\n",
    "textstr = r'$\\rho = \\bigl(p \\, |\\phi\\rangle\\langle \\phi| + (1-p) \\frac{I}{4}\\bigr)^{\\otimes N}$'\n",
    "# place a text box in bottom left in axes coords\n",
    "\n",
    "plt.text(0.05, 0.05, textstr, transform=plt.gca().transAxes, fontsize=14, verticalalignment='bottom')\n",
    "\n",
    "plt.savefig('epsilon_bound_vs_noise.png')\n",
    "\n",
    "plt.show()"
   ]
  },
  {
   "cell_type": "code",
   "execution_count": 118,
   "id": "bf697f96",
   "metadata": {},
   "outputs": [
    {
     "data": {
      "text/plain": [
       "(Quantum object: dims=[[2, 2], [2, 2]], shape=(4, 4), type='oper', dtype=Dense, isherm=True\n",
       " Qobj data =\n",
       " [[0.         0.         0.         0.        ]\n",
       "  [0.         0.38196601 0.38196601 0.30028311]\n",
       "  [0.         0.38196601 0.38196601 0.30028311]\n",
       "  [0.         0.30028311 0.30028311 0.23606798]],\n",
       " 1.0,\n",
       " np.complex128(0.0029536071092203173+0j),\n",
       " np.float64(3.8254027466328745e-06),\n",
       " np.complex128(9695.060647943263+0j))"
      ]
     },
     "execution_count": 118,
     "metadata": {},
     "output_type": "execute_result"
    }
   ],
   "source": [
    "df['abs_epsilon_bound_opt'] = df['epsilon_bound_opt'].abs()\n",
    "\n",
    "positive_epsilon = df[(df['n'] == 1) & (df['epsilon_bound_opt'] > 0)].sort_values(by='abs_epsilon_bound_opt').iloc[0]\n",
    "rho_phi_positive_bound = positive_epsilon['rho_phi']\n",
    "rho_phi_positive_bound, rho_phi_positive_bound.purity(), positive_epsilon['epsilon_bound_opt'], positive_epsilon['noise'], positive_epsilon['kappa_opt']"
   ]
  },
  {
   "cell_type": "code",
   "execution_count": null,
   "id": "9b4085fa",
   "metadata": {},
   "outputs": [
    {
     "data": {
      "text/plain": [
       "1.0"
      ]
     },
     "execution_count": 105,
     "metadata": {},
     "output_type": "execute_result"
    }
   ],
   "source": [
    "# get the psi density matrix for that p\n",
    "p = df[(df['n'] == 1) & (df['abs_epsilon_bound_opt'] > 0)].sort_values(by='abs_epsilon_bound_opt').head(1)['noise']\n",
    "psi = 1 / np.sqrt(1-a**2) * (np.sqrt(1-2*a**2) * ket_0 - a * ket_1)\n",
    "proj_psi = psi * psi.dag()"
   ]
  }
 ],
 "metadata": {
  "kernelspec": {
   "display_name": ".venv",
   "language": "python",
   "name": "python3"
  },
  "language_info": {
   "codemirror_mode": {
    "name": "ipython",
    "version": 3
   },
   "file_extension": ".py",
   "mimetype": "text/x-python",
   "name": "python",
   "nbconvert_exporter": "python",
   "pygments_lexer": "ipython3",
   "version": "3.13.5"
  }
 },
 "nbformat": 4,
 "nbformat_minor": 5
}
