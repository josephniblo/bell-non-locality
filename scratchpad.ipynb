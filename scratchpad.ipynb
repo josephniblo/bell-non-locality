{
 "cells": [
  {
   "cell_type": "code",
   "execution_count": 2,
   "id": "e6cf0b5b",
   "metadata": {},
   "outputs": [],
   "source": [
    "import numpy as np\n",
    "import qutip as qt"
   ]
  },
  {
   "cell_type": "code",
   "execution_count": 3,
   "id": "b28b0159",
   "metadata": {},
   "outputs": [
    {
     "data": {
      "text/latex": [
       "Quantum object: dims=[[2, 2], [1]], shape=(4, 1), type='ket', dtype=Dense$$\\left(\\begin{array}{cc}0\\\\0.618\\\\0.618\\\\0.486\\end{array}\\right)$$"
      ],
      "text/plain": [
       "Quantum object: dims=[[2, 2], [1]], shape=(4, 1), type='ket', dtype=Dense\n",
       "Qobj data =\n",
       "[[0.        ]\n",
       " [0.61803399]\n",
       " [0.61803399]\n",
       " [0.48586827]]"
      ]
     },
     "execution_count": 3,
     "metadata": {},
     "output_type": "execute_result"
    }
   ],
   "source": [
    "ket_0 = qt.basis(2, 0)\n",
    "ket_1 = qt.basis(2, 1)\n",
    "\n",
    "ket_00 = qt.tensor(ket_0, ket_0)\n",
    "ket_11 = qt.tensor(ket_1, ket_1)\n",
    "ket_01 = qt.tensor(ket_0, ket_1)\n",
    "ket_10 = qt.tensor(ket_1, ket_0)\n",
    "\n",
    "a = (np.sqrt(5) - 1) / 2\n",
    "\n",
    "ket_phi = a * (ket_01 + ket_10) + np.sqrt(1-2*a**2) * ket_11\n",
    "ket_phi"
   ]
  },
  {
   "cell_type": "code",
   "execution_count": 4,
   "id": "c98c538d",
   "metadata": {},
   "outputs": [
    {
     "data": {
      "text/latex": [
       "Quantum object: dims=[[2, 2], [2, 2]], shape=(4, 4), type='oper', dtype=Dense, isherm=True$$\\left(\\begin{array}{cc}0 & 0 & 0 & 0\\\\0 & 0.382 & 0.382 & 0.300\\\\0 & 0.382 & 0.382 & 0.300\\\\0 & 0.300 & 0.300 & 0.236\\end{array}\\right)$$"
      ],
      "text/plain": [
       "Quantum object: dims=[[2, 2], [2, 2]], shape=(4, 4), type='oper', dtype=Dense, isherm=True\n",
       "Qobj data =\n",
       "[[0.         0.         0.         0.        ]\n",
       " [0.         0.38196601 0.38196601 0.30028311]\n",
       " [0.         0.38196601 0.38196601 0.30028311]\n",
       " [0.         0.30028311 0.30028311 0.23606798]]"
      ]
     },
     "execution_count": 4,
     "metadata": {},
     "output_type": "execute_result"
    }
   ],
   "source": [
    "rho_phi = ket_phi * ket_phi.dag()\n",
    "rho_phi"
   ]
  },
  {
   "cell_type": "code",
   "execution_count": 5,
   "id": "dc1dfb4e",
   "metadata": {},
   "outputs": [
    {
     "data": {
      "text/plain": [
       "(Quantum object: dims=[[2], [2]], shape=(2, 2), type='oper', dtype=CSR, isherm=True\n",
       " Qobj data =\n",
       " [[1. 0.]\n",
       "  [0. 0.]],\n",
       " Quantum object: dims=[[2], [2]], shape=(2, 2), type='oper', dtype=CSR, isherm=True\n",
       " Qobj data =\n",
       " [[0. 0.]\n",
       "  [0. 1.]],\n",
       " Quantum object: dims=[[2], [2]], shape=(2, 2), type='oper', dtype=Dense, isherm=True\n",
       " Qobj data =\n",
       " [[ 0.38196601 -0.48586827]\n",
       "  [-0.48586827  0.61803399]],\n",
       " Quantum object: dims=[[2], [2]], shape=(2, 2), type='oper', dtype=Dense, isherm=True\n",
       " Qobj data =\n",
       " [[0.61803399 0.48586827]\n",
       "  [0.48586827 0.38196601]])"
      ]
     },
     "execution_count": 5,
     "metadata": {},
     "output_type": "execute_result"
    }
   ],
   "source": [
    "proj_0 = ket_0 * ket_0.dag()\n",
    "proj_1 = ket_1 * ket_1.dag()\n",
    "\n",
    "psi = 1 / np.sqrt(1-a**2) * (np.sqrt(1-2*a**2) * ket_0 - a * ket_1)\n",
    "proj_psi = psi * psi.dag()\n",
    "\n",
    "proj_0, proj_1, proj_psi, 1 - proj_psi"
   ]
  },
  {
   "cell_type": "markdown",
   "id": "2110456b",
   "metadata": {},
   "source": [
    "# 1 Copy"
   ]
  },
  {
   "cell_type": "code",
   "execution_count": 6,
   "id": "f8bb6d42",
   "metadata": {},
   "outputs": [
    {
     "data": {
      "text/plain": [
       "(0.0, 0.0, 0.0, (0.09016994374947418+0j))"
      ]
     },
     "execution_count": 6,
     "metadata": {},
     "output_type": "execute_result"
    }
   ],
   "source": [
    "def p(a, b, x, y):\n",
    "    if x == 1:\n",
    "        proj_a = proj_0 if a == 0 else proj_1\n",
    "    else:\n",
    "        proj_a = proj_psi if a == 0 else (1 - proj_psi)\n",
    "\n",
    "    if y == 1:\n",
    "        proj_b = proj_0 if b == 0 else proj_1\n",
    "    else:\n",
    "        proj_b = proj_psi if b == 0 else (1 - proj_psi)\n",
    "\n",
    "    proj_ab = qt.tensor(proj_a, proj_b)\n",
    "    return (proj_ab * rho_phi).tr()\n",
    "\n",
    "p(0, 1, 0, 1), p(1,0,1,0), p(0,0,1,1), p(0,0,0,0)"
   ]
  },
  {
   "cell_type": "markdown",
   "id": "16c00662",
   "metadata": {},
   "source": [
    "Note - the above has the definition of x swapped, so that when x=0, we project in the psi basis, and when x=1, we project in the logical basis"
   ]
  },
  {
   "cell_type": "markdown",
   "id": "73235348",
   "metadata": {},
   "source": [
    "# 2 Copies"
   ]
  },
  {
   "cell_type": "code",
   "execution_count": 7,
   "id": "749b2633",
   "metadata": {},
   "outputs": [
    {
     "data": {
      "text/latex": [
       "Quantum object: dims=[[2, 2, 2, 2], [1]], shape=(16, 1), type='ket', dtype=Dense$$\\left(\\begin{array}{cc}0\\\\0\\\\0\\\\0\\\\0\\\\\\vdots\\\\0.300\\\\0\\\\0.300\\\\0.300\\\\0.236\\end{array}\\right)$$"
      ],
      "text/plain": [
       "Quantum object: dims=[[2, 2, 2, 2], [1]], shape=(16, 1), type='ket', dtype=Dense\n",
       "Qobj data =\n",
       "[[0.        ]\n",
       " [0.        ]\n",
       " [0.        ]\n",
       " [0.        ]\n",
       " [0.        ]\n",
       " [0.38196601]\n",
       " [0.38196601]\n",
       " [0.30028311]\n",
       " [0.        ]\n",
       " [0.38196601]\n",
       " [0.38196601]\n",
       " [0.30028311]\n",
       " [0.        ]\n",
       " [0.30028311]\n",
       " [0.30028311]\n",
       " [0.23606798]]"
      ]
     },
     "execution_count": 7,
     "metadata": {},
     "output_type": "execute_result"
    }
   ],
   "source": [
    "def phi_n(n):\n",
    "    return qt.tensor([ket_phi] * n)\n",
    "\n",
    "phi_2 = phi_n(2)\n",
    "phi_2"
   ]
  },
  {
   "cell_type": "code",
   "execution_count": 8,
   "id": "738d8653",
   "metadata": {},
   "outputs": [],
   "source": [
    "def proj_ab_n(a_vals, b_vals, x, y):\n",
    "    n = len(a_vals)\n",
    "    # Precompute projectors for efficiency\n",
    "    proj_a_basis = [proj_0, proj_1] if x == 1 else [proj_psi, 1 - proj_psi]\n",
    "    proj_b_basis = [proj_0, proj_1] if y == 1 else [proj_psi, 1 - proj_psi]\n",
    "\n",
    "    projs = [\n",
    "        qt.tensor(proj_a_basis[a], proj_b_basis[b])\n",
    "        for a, b in zip(a_vals, b_vals)\n",
    "    ]\n",
    "    return qt.tensor(projs)\n",
    "\n",
    "\n",
    "def p_n(a_vals, b_vals, x, y):\n",
    "    n = len(a_vals)\n",
    "    assert len(b_vals) == n\n",
    "\n",
    "    proj_ab = proj_ab_n(a_vals, b_vals, x, y)\n",
    "    rho = phi_n(n) * phi_n(n).dag()\n",
    "    return (proj_ab * rho).tr()\n"
   ]
  },
  {
   "cell_type": "code",
   "execution_count": 9,
   "id": "23b16024",
   "metadata": {},
   "outputs": [
    {
     "data": {
      "text/plain": [
       "np.complex128(0.1722092687431651+0j)"
      ]
     },
     "execution_count": 9,
     "metadata": {},
     "output_type": "execute_result"
    }
   ],
   "source": [
    "# (a1 b1)(a2 b2) ... (an bn)\n",
    "# (00)(00) + (00)(01) + (00)(10) + (00)(11) + (01)(00) + (10)(00) + (11)(00)\n",
    "\n",
    "# (a1 a2) (b1 b2)\n",
    "# (00)(00) + (00)(01) + (01)(00) + (01)(01) + (00)(10) + (10)(00) + (10)(10)\n",
    "\n",
    "np.sum([p_n([0,0], [0,0], 0, 0),\n",
    "        p_n([0,0], [0,1], 0, 0),\n",
    "        p_n([0,1], [0,0], 0, 0),\n",
    "        p_n([0,1], [0,1], 0, 0),\n",
    "        p_n([0,0], [1,0], 0, 0),\n",
    "        p_n([1,0], [0,0], 0, 0),\n",
    "        p_n([1,0], [1,0], 0, 0)])"
   ]
  },
  {
   "cell_type": "markdown",
   "id": "be986b83",
   "metadata": {},
   "source": [
    "# N Copies"
   ]
  },
  {
   "cell_type": "code",
   "execution_count": 10,
   "id": "2dbd21e6",
   "metadata": {},
   "outputs": [
    {
     "data": {
      "text/plain": [
       "array([[[0, 0],\n",
       "        [0, 0],\n",
       "        [0, 0]],\n",
       "\n",
       "       [[0, 0],\n",
       "        [0, 0],\n",
       "        [0, 1]],\n",
       "\n",
       "       [[0, 0],\n",
       "        [0, 0],\n",
       "        [1, 0]],\n",
       "\n",
       "       [[0, 0],\n",
       "        [0, 0],\n",
       "        [1, 1]],\n",
       "\n",
       "       [[0, 0],\n",
       "        [0, 1],\n",
       "        [0, 0]],\n",
       "\n",
       "       [[0, 0],\n",
       "        [0, 1],\n",
       "        [0, 1]],\n",
       "\n",
       "       [[0, 0],\n",
       "        [0, 1],\n",
       "        [1, 0]],\n",
       "\n",
       "       [[0, 0],\n",
       "        [0, 1],\n",
       "        [1, 1]],\n",
       "\n",
       "       [[0, 0],\n",
       "        [1, 0],\n",
       "        [0, 0]],\n",
       "\n",
       "       [[0, 0],\n",
       "        [1, 0],\n",
       "        [0, 1]],\n",
       "\n",
       "       [[0, 0],\n",
       "        [1, 0],\n",
       "        [1, 0]],\n",
       "\n",
       "       [[0, 0],\n",
       "        [1, 0],\n",
       "        [1, 1]],\n",
       "\n",
       "       [[0, 0],\n",
       "        [1, 1],\n",
       "        [0, 0]],\n",
       "\n",
       "       [[0, 0],\n",
       "        [1, 1],\n",
       "        [0, 1]],\n",
       "\n",
       "       [[0, 0],\n",
       "        [1, 1],\n",
       "        [1, 0]],\n",
       "\n",
       "       [[0, 0],\n",
       "        [1, 1],\n",
       "        [1, 1]],\n",
       "\n",
       "       [[0, 1],\n",
       "        [0, 0],\n",
       "        [0, 0]],\n",
       "\n",
       "       [[0, 1],\n",
       "        [0, 0],\n",
       "        [0, 1]],\n",
       "\n",
       "       [[0, 1],\n",
       "        [0, 0],\n",
       "        [1, 0]],\n",
       "\n",
       "       [[0, 1],\n",
       "        [0, 0],\n",
       "        [1, 1]],\n",
       "\n",
       "       [[0, 1],\n",
       "        [0, 1],\n",
       "        [0, 0]],\n",
       "\n",
       "       [[0, 1],\n",
       "        [1, 0],\n",
       "        [0, 0]],\n",
       "\n",
       "       [[0, 1],\n",
       "        [1, 1],\n",
       "        [0, 0]],\n",
       "\n",
       "       [[1, 0],\n",
       "        [0, 0],\n",
       "        [0, 0]],\n",
       "\n",
       "       [[1, 0],\n",
       "        [0, 0],\n",
       "        [0, 1]],\n",
       "\n",
       "       [[1, 0],\n",
       "        [0, 0],\n",
       "        [1, 0]],\n",
       "\n",
       "       [[1, 0],\n",
       "        [0, 0],\n",
       "        [1, 1]],\n",
       "\n",
       "       [[1, 0],\n",
       "        [0, 1],\n",
       "        [0, 0]],\n",
       "\n",
       "       [[1, 0],\n",
       "        [1, 0],\n",
       "        [0, 0]],\n",
       "\n",
       "       [[1, 0],\n",
       "        [1, 1],\n",
       "        [0, 0]],\n",
       "\n",
       "       [[1, 1],\n",
       "        [0, 0],\n",
       "        [0, 0]],\n",
       "\n",
       "       [[1, 1],\n",
       "        [0, 0],\n",
       "        [0, 1]],\n",
       "\n",
       "       [[1, 1],\n",
       "        [0, 0],\n",
       "        [1, 0]],\n",
       "\n",
       "       [[1, 1],\n",
       "        [0, 0],\n",
       "        [1, 1]],\n",
       "\n",
       "       [[1, 1],\n",
       "        [0, 1],\n",
       "        [0, 0]],\n",
       "\n",
       "       [[1, 1],\n",
       "        [1, 0],\n",
       "        [0, 0]],\n",
       "\n",
       "       [[1, 1],\n",
       "        [1, 1],\n",
       "        [0, 0]]])"
      ]
     },
     "execution_count": 10,
     "metadata": {},
     "output_type": "execute_result"
    }
   ],
   "source": [
    "# Pairs of bits, times n, iff at least one pair of bits is (0,0)\n",
    "from itertools import product\n",
    "\n",
    "def get_sum_terms(n: int):\n",
    "    pairs = [(0,0), (0,1), (1,0), (1,1)]\n",
    "    all_terms = []\n",
    "    for seq in product(pairs, repeat=n):\n",
    "        if (0,0) in seq:\n",
    "            all_terms.append(list(seq))  # convert tuple to list\n",
    "    return np.array([list(list(t) for t in term) for term in all_terms])\n",
    "\n",
    "get_sum_terms(3)"
   ]
  },
  {
   "cell_type": "code",
   "execution_count": 11,
   "id": "ec560005",
   "metadata": {},
   "outputs": [
    {
     "data": {
      "text/plain": [
       "np.complex128(0.09016994374947418+0j)"
      ]
     },
     "execution_count": 11,
     "metadata": {},
     "output_type": "execute_result"
    }
   ],
   "source": [
    "np.sum([p_n(term.transpose()[0], term.transpose()[1], 0, 0) for term in get_sum_terms(1)])"
   ]
  },
  {
   "cell_type": "markdown",
   "id": "d646f598",
   "metadata": {},
   "source": [
    "# k Outcomes"
   ]
  },
  {
   "cell_type": "code",
   "execution_count": 12,
   "id": "5a943840",
   "metadata": {},
   "outputs": [],
   "source": [
    "def p_n_k(n):\n",
    "    if n == 1: \n",
    "        return # Not supported\n",
    "    terms = get_sum_terms(n)\n",
    "    k = len(terms)\n",
    "\n",
    "    a_vals_k = terms.transpose()[0].transpose()\n",
    "    b_vals_k = terms.transpose()[1].transpose()\n",
    "\n",
    "    proj_ab_n_sum = 0\n",
    "\n",
    "    for i in range(k):\n",
    "        a_vals = a_vals_k[i]\n",
    "        b_vals = b_vals_k[i]\n",
    "        proj_ab_n_i = proj_ab_n(a_vals, b_vals, 0, 0)\n",
    "\n",
    "        proj_ab_n_sum += proj_ab_n_i\n",
    "\n",
    "    rho_n = phi_n(n) * phi_n(n).dag()\n",
    "    p = (proj_ab_n_sum * rho_n).tr()\n",
    "    return p\n"
   ]
  },
  {
   "cell_type": "code",
   "execution_count": 13,
   "id": "1a5c8a77",
   "metadata": {},
   "outputs": [
    {
     "name": "stdout",
     "output_type": "stream",
     "text": [
      "3 (0.2468511124169302+0j)\n",
      "4 (0.31476250524527366+0j)\n",
      "5 (0.3765503316023426+0j)\n"
     ]
    }
   ],
   "source": [
    "for i in range(3,6):\n",
    "    print(i, p_n_k(i))"
   ]
  },
  {
   "cell_type": "markdown",
   "id": "bc680df3",
   "metadata": {},
   "source": [
    "# Invert Projector Calc\n",
    "\n",
    "Once $N > 2$, $(3/4) ^ N < 1/2$, which means more of the outcome patterns are included in the sum than excluded. So for efficiency, we will calculate the ones not included, and then subtract from 1."
   ]
  },
  {
   "cell_type": "code",
   "execution_count": 14,
   "id": "4b8bddf9",
   "metadata": {},
   "outputs": [
    {
     "data": {
      "text/latex": [
       "Quantum object: dims=[[2, 2], [2, 2]], shape=(4, 4), type='oper', dtype=Dense, isherm=True$$\\left(\\begin{array}{cc}0.854 & 0.186 & 0.186 & -0.236\\\\0.186 & 0.764 & -0.236 & 0.300\\\\0.186 & -0.236 & 0.764 & 0.300\\\\-0.236 & 0.300 & 0.300 & 0.618\\end{array}\\right)$$"
      ],
      "text/plain": [
       "Quantum object: dims=[[2, 2], [2, 2]], shape=(4, 4), type='oper', dtype=Dense, isherm=True\n",
       "Qobj data =\n",
       "[[ 0.85410197  0.18558517  0.18558517 -0.23606798]\n",
       " [ 0.18558517  0.76393202 -0.23606798  0.30028311]\n",
       " [ 0.18558517 -0.23606798  0.76393202  0.30028311]\n",
       " [-0.23606798  0.30028311  0.30028311  0.61803399]]"
      ]
     },
     "execution_count": 14,
     "metadata": {},
     "output_type": "execute_result"
    }
   ],
   "source": [
    "proj_psi_psi = qt.tensor(proj_psi, proj_psi)\n",
    "proj_psi_apsi = qt.tensor(proj_psi, 1-proj_psi)\n",
    "proj_apsi_psi = qt.tensor(1-proj_psi, proj_psi)\n",
    "proj_apsi_apsi = qt.tensor(1-proj_psi, 1-proj_psi)\n",
    "\n",
    "# tensor power of the sum\n",
    "excluded_proj = 1 - proj_psi_psi\n",
    "excluded_proj"
   ]
  },
  {
   "cell_type": "code",
   "execution_count": 15,
   "id": "be0cb697",
   "metadata": {},
   "outputs": [],
   "source": [
    "def p_n_k_from_inverted(n):\n",
    "    proj_excluded = 1-proj_psi_psi\n",
    "\n",
    "    rho_n = ket_phi * ket_phi.dag()\n",
    "\n",
    "    return 1 - (proj_excluded * rho_n).tr() ** n"
   ]
  },
  {
   "cell_type": "code",
   "execution_count": 16,
   "id": "b4ea17a3",
   "metadata": {},
   "outputs": [
    {
     "data": {
      "text/plain": [
       "(0.6113105109748465+0j)"
      ]
     },
     "execution_count": 16,
     "metadata": {},
     "output_type": "execute_result"
    }
   ],
   "source": [
    "p_n_k_from_inverted(10)"
   ]
  },
  {
   "cell_type": "code",
   "execution_count": 17,
   "id": "50170391",
   "metadata": {},
   "outputs": [
    {
     "name": "stdout",
     "output_type": "stream",
     "text": [
      "1 (0.09016994374947429+0j)\n",
      "2 (0.17220926874316522+0j)\n",
      "3 (0.24685111241693025+0j)\n",
      "4 (0.3147625052452747+0j)\n",
      "5 (0.376550331602339+0j)\n",
      "6 (0.43276675313238444+0j)\n",
      "7 (0.48391414309526903+0j)\n",
      "8 (0.5304495757822678+0j)\n",
      "9 (0.5727889111215225+0j)\n",
      "10 (0.6113105109748465+0j)\n",
      "11 (0.6463586203362566+0j)\n",
      "12 (0.6782464436480227+0j)\n",
      "13 (0.7072589437254738+0j)\n",
      "14 (0.7336553883029096+0j)\n",
      "15 (0.7576716669576118+0j)\n",
      "16 (0.7795223991169478+0j)\n",
      "17 (0.7994028519865917+0j)\n",
      "18 (0.8174906855392656+0j)\n",
      "19 (0.8339475401579451+0j)\n"
     ]
    }
   ],
   "source": [
    "for i in range(1,20):\n",
    "    print(i, p_n_k_from_inverted(i))"
   ]
  },
  {
   "cell_type": "code",
   "execution_count": 18,
   "id": "f0ae44f8",
   "metadata": {},
   "outputs": [
    {
     "name": "stderr",
     "output_type": "stream",
     "text": [
      "/Users/Joseph/Documents/PhD/projects/bell-non-locality/.venv/lib/python3.13/site-packages/matplotlib/cbook.py:1719: ComplexWarning: Casting complex values to real discards the imaginary part\n",
      "  return math.isfinite(val)\n",
      "/Users/Joseph/Documents/PhD/projects/bell-non-locality/.venv/lib/python3.13/site-packages/matplotlib/cbook.py:1355: ComplexWarning: Casting complex values to real discards the imaginary part\n",
      "  return np.asarray(x, float)\n"
     ]
    },
    {
     "data": {
      "image/png": "[encoded data removed]",
      "text/plain": [
       "<Figure size 640x480 with 1 Axes>"
      ]
     },
     "metadata": {},
     "output_type": "display_data"
    }
   ],
   "source": [
    "# plot the P(n, k) values for n in [1, 20]\n",
    "import matplotlib.pyplot as plt\n",
    "\n",
    "x = list(range(1, 41))\n",
    "y = [p_n_k_from_inverted(i) for i in x]\n",
    "\n",
    "plt.plot(x, y)\n",
    "plt.xlabel('n')\n",
    "plt.ylabel('PNH')\n",
    "\n",
    "plt.grid()\n",
    "\n",
    "plt.savefig('P_N_H.png')\n",
    "plt.show()"
   ]
  },
  {
   "cell_type": "code",
   "execution_count": 19,
   "id": "056ee39b",
   "metadata": {},
   "outputs": [
    {
     "data": {
      "image/png": "[encoded data removed]",
      "text/plain": [
       "<Figure size 640x480 with 1 Axes>"
      ]
     },
     "metadata": {},
     "output_type": "display_data"
    }
   ],
   "source": [
    "# plot epsillon = 1 - root(1 - P(n, k))\n",
    "import matplotlib.pyplot as plt\n",
    "x = list(range(1, 41))\n",
    "y = [1 - np.sqrt(1 - p_n_k_from_inverted(i)) for i in x]\n",
    "plt.plot(x, y)\n",
    "plt.xlabel('n')\n",
    "plt.ylabel('epsillon bound')\n",
    "plt.grid()\n",
    "\n",
    "plt.savefig('epsillon_bound.png')\n",
    "plt.show()"
   ]
  },
  {
   "cell_type": "markdown",
   "id": "e6d55d91",
   "metadata": {},
   "source": [
    "# Checking eq. 14"
   ]
  },
  {
   "cell_type": "markdown",
   "id": "14feb745",
   "metadata": {},
   "source": [
    "## 14a"
   ]
  },
  {
   "cell_type": "code",
   "execution_count": 21,
   "id": "d1ef58b0",
   "metadata": {},
   "outputs": [
    {
     "data": {
      "text/latex": [
       "Quantum object: dims=[[2, 2], [2, 2]], shape=(4, 4), type='oper', dtype=CSR, isherm=True$$\\left(\\begin{array}{cc}0 & 0 & 0 & 0\\\\0 & 0.382 & 0 & -0.486\\\\0 & 0 & 0 & 0\\\\0 & -0.486 & 0 & 0.618\\end{array}\\right)$$"
      ],
      "text/plain": [
       "Quantum object: dims=[[2, 2], [2, 2]], shape=(4, 4), type='oper', dtype=CSR, isherm=True\n",
       "Qobj data =\n",
       "[[ 0.          0.          0.          0.        ]\n",
       " [ 0.          0.38196601  0.         -0.48586827]\n",
       " [ 0.          0.          0.          0.        ]\n",
       " [ 0.         -0.48586827  0.          0.61803399]]"
      ]
     },
     "execution_count": 21,
     "metadata": {},
     "output_type": "execute_result"
    }
   ],
   "source": [
    "proj_psi_1 = qt.tensor(proj_psi, proj_1)\n",
    "proj_psi_1"
   ]
  },
  {
   "cell_type": "code",
   "execution_count": 28,
   "id": "12df9327",
   "metadata": {},
   "outputs": [
    {
     "data": {
      "text/plain": [
       "0.0"
      ]
     },
     "execution_count": 28,
     "metadata": {},
     "output_type": "execute_result"
    }
   ],
   "source": [
    "s_01 = 1 - ((1-proj_psi_1) * rho_phi).tr()\n",
    "s_01"
   ]
  },
  {
   "cell_type": "markdown",
   "id": "f7f07028",
   "metadata": {},
   "source": [
    "## 14b"
   ]
  },
  {
   "cell_type": "code",
   "execution_count": 29,
   "id": "014ab0d4",
   "metadata": {},
   "outputs": [
    {
     "data": {
      "text/latex": [
       "Quantum object: dims=[[2, 2], [2, 2]], shape=(4, 4), type='oper', dtype=CSR, isherm=True$$\\left(\\begin{array}{cc}0 & 0 & 0 & 0\\\\0 & 0 & 0 & 0\\\\0 & 0 & 0.382 & -0.486\\\\0 & 0 & -0.486 & 0.618\\end{array}\\right)$$"
      ],
      "text/plain": [
       "Quantum object: dims=[[2, 2], [2, 2]], shape=(4, 4), type='oper', dtype=CSR, isherm=True\n",
       "Qobj data =\n",
       "[[ 0.          0.          0.          0.        ]\n",
       " [ 0.          0.          0.          0.        ]\n",
       " [ 0.          0.          0.38196601 -0.48586827]\n",
       " [ 0.          0.         -0.48586827  0.61803399]]"
      ]
     },
     "execution_count": 29,
     "metadata": {},
     "output_type": "execute_result"
    }
   ],
   "source": [
    "proj_1_psi = qt.tensor(proj_1, proj_psi)\n",
    "proj_1_psi"
   ]
  },
  {
   "cell_type": "code",
   "execution_count": 30,
   "id": "c5ba62d6",
   "metadata": {},
   "outputs": [
    {
     "data": {
      "text/plain": [
       "0.0"
      ]
     },
     "execution_count": 30,
     "metadata": {},
     "output_type": "execute_result"
    }
   ],
   "source": [
    "s_10 = 1 - ((1-proj_1_psi) * rho_phi).tr()\n",
    "s_10"
   ]
  },
  {
   "cell_type": "markdown",
   "id": "14c77678",
   "metadata": {},
   "source": [
    "## 14c"
   ]
  },
  {
   "cell_type": "code",
   "execution_count": 31,
   "id": "c2c309a3",
   "metadata": {},
   "outputs": [
    {
     "data": {
      "text/latex": [
       "Quantum object: dims=[[2, 2], [2, 2]], shape=(4, 4), type='oper', dtype=CSR, isherm=True$$\\left(\\begin{array}{cc}1 & 0 & 0 & 0\\\\0 & 0 & 0 & 0\\\\0 & 0 & 0 & 0\\\\0 & 0 & 0 & 0\\end{array}\\right)$$"
      ],
      "text/plain": [
       "Quantum object: dims=[[2, 2], [2, 2]], shape=(4, 4), type='oper', dtype=CSR, isherm=True\n",
       "Qobj data =\n",
       "[[1. 0. 0. 0.]\n",
       " [0. 0. 0. 0.]\n",
       " [0. 0. 0. 0.]\n",
       " [0. 0. 0. 0.]]"
      ]
     },
     "execution_count": 31,
     "metadata": {},
     "output_type": "execute_result"
    }
   ],
   "source": [
    "proj_0_0 = qt.tensor(proj_0, proj_0)\n",
    "proj_0_0"
   ]
  },
  {
   "cell_type": "code",
   "execution_count": 32,
   "id": "14aa4e59",
   "metadata": {},
   "outputs": [
    {
     "data": {
      "text/plain": [
       "0.0"
      ]
     },
     "execution_count": 32,
     "metadata": {},
     "output_type": "execute_result"
    }
   ],
   "source": [
    "# GIVEN 1, 1 !\n",
    "s_00 = 1 - ((1-proj_0_0) * rho_phi).tr()\n",
    "s_00"
   ]
  }
 ],
 "metadata": {
  "kernelspec": {
   "display_name": ".venv",
   "language": "python",
   "name": "python3"
  },
  "language_info": {
   "codemirror_mode": {
    "name": "ipython",
    "version": 3
   },
   "file_extension": ".py",
   "mimetype": "text/x-python",
   "name": "python",
   "nbconvert_exporter": "python",
   "pygments_lexer": "ipython3",
   "version": "3.13.5"
  }
 },
 "nbformat": 4,
 "nbformat_minor": 5
}
