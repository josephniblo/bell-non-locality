{
 "cells": [
  {
   "cell_type": "code",
   "execution_count": 120,
   "id": "e6cf0b5b",
   "metadata": {},
   "outputs": [],
   "source": [
    "import numpy as np\n",
    "import qutip as qt"
   ]
  },
  {
   "cell_type": "code",
   "execution_count": 121,
   "id": "b28b0159",
   "metadata": {},
   "outputs": [
    {
     "data": {
      "text/latex": [
       "Quantum object: dims=[[2, 2], [1]], shape=(4, 1), type='ket', dtype=Dense$$\\left(\\begin{array}{cc}0\\\\0.618\\\\0.618\\\\0.486\\end{array}\\right)$$"
      ],
      "text/plain": [
       "Quantum object: dims=[[2, 2], [1]], shape=(4, 1), type='ket', dtype=Dense\n",
       "Qobj data =\n",
       "[[0.        ]\n",
       " [0.61803399]\n",
       " [0.61803399]\n",
       " [0.48586827]]"
      ]
     },
     "execution_count": 121,
     "metadata": {},
     "output_type": "execute_result"
    }
   ],
   "source": [
    "ket_0 = qt.basis(2, 0)\n",
    "ket_1 = qt.basis(2, 1)\n",
    "\n",
    "ket_00 = qt.tensor(ket_0, ket_0)\n",
    "ket_11 = qt.tensor(ket_1, ket_1)\n",
    "ket_01 = qt.tensor(ket_0, ket_1)\n",
    "ket_10 = qt.tensor(ket_1, ket_0)\n",
    "\n",
    "a = (np.sqrt(5) - 1) / 2\n",
    "\n",
    "ket_phi = a * (ket_01 + ket_10) + np.sqrt(1-2*a**2) * ket_11\n",
    "ket_phi"
   ]
  },
  {
   "cell_type": "code",
   "execution_count": 122,
   "id": "c98c538d",
   "metadata": {},
   "outputs": [
    {
     "data": {
      "text/latex": [
       "Quantum object: dims=[[2, 2], [2, 2]], shape=(4, 4), type='oper', dtype=Dense, isherm=True$$\\left(\\begin{array}{cc}0 & 0 & 0 & 0\\\\0 & 0.382 & 0.382 & 0.300\\\\0 & 0.382 & 0.382 & 0.300\\\\0 & 0.300 & 0.300 & 0.236\\end{array}\\right)$$"
      ],
      "text/plain": [
       "Quantum object: dims=[[2, 2], [2, 2]], shape=(4, 4), type='oper', dtype=Dense, isherm=True\n",
       "Qobj data =\n",
       "[[0.         0.         0.         0.        ]\n",
       " [0.         0.38196601 0.38196601 0.30028311]\n",
       " [0.         0.38196601 0.38196601 0.30028311]\n",
       " [0.         0.30028311 0.30028311 0.23606798]]"
      ]
     },
     "execution_count": 122,
     "metadata": {},
     "output_type": "execute_result"
    }
   ],
   "source": [
    "rho_phi = ket_phi * ket_phi.dag()\n",
    "rho_phi"
   ]
  },
  {
   "cell_type": "code",
   "execution_count": 123,
   "id": "dc1dfb4e",
   "metadata": {},
   "outputs": [
    {
     "data": {
      "text/plain": [
       "(Quantum object: dims=[[2], [2]], shape=(2, 2), type='oper', dtype=CSR, isherm=True\n",
       " Qobj data =\n",
       " [[1. 0.]\n",
       "  [0. 0.]],\n",
       " Quantum object: dims=[[2], [2]], shape=(2, 2), type='oper', dtype=CSR, isherm=True\n",
       " Qobj data =\n",
       " [[0. 0.]\n",
       "  [0. 1.]],\n",
       " Quantum object: dims=[[2], [2]], shape=(2, 2), type='oper', dtype=Dense, isherm=True\n",
       " Qobj data =\n",
       " [[ 0.38196601 -0.48586827]\n",
       "  [-0.48586827  0.61803399]],\n",
       " Quantum object: dims=[[2], [2]], shape=(2, 2), type='oper', dtype=Dense, isherm=True\n",
       " Qobj data =\n",
       " [[0.61803399 0.48586827]\n",
       "  [0.48586827 0.38196601]])"
      ]
     },
     "execution_count": 123,
     "metadata": {},
     "output_type": "execute_result"
    }
   ],
   "source": [
    "proj_0 = ket_0 * ket_0.dag()\n",
    "proj_1 = ket_1 * ket_1.dag()\n",
    "\n",
    "psi = 1 / np.sqrt(1-a**2) * (np.sqrt(1-2*a**2) * ket_0 - a * ket_1)\n",
    "proj_psi = psi * psi.dag()\n",
    "\n",
    "proj_0, proj_1, proj_psi, 1 - proj_psi"
   ]
  },
  {
   "cell_type": "markdown",
   "id": "2110456b",
   "metadata": {},
   "source": [
    "# 1 Copy"
   ]
  },
  {
   "cell_type": "code",
   "execution_count": 124,
   "id": "f8bb6d42",
   "metadata": {},
   "outputs": [
    {
     "data": {
      "text/plain": [
       "(0.0, 0.0, 0.0, (0.09016994374947418+0j))"
      ]
     },
     "execution_count": 124,
     "metadata": {},
     "output_type": "execute_result"
    }
   ],
   "source": [
    "def p(a, b, x, y):\n",
    "    if x == 1:\n",
    "        proj_a = proj_0 if a == 0 else proj_1\n",
    "    else:\n",
    "        proj_a = proj_psi if a == 0 else (1 - proj_psi)\n",
    "\n",
    "    if y == 1:\n",
    "        proj_b = proj_0 if b == 0 else proj_1\n",
    "    else:\n",
    "        proj_b = proj_psi if b == 0 else (1 - proj_psi)\n",
    "\n",
    "    proj_ab = qt.tensor(proj_a, proj_b)\n",
    "    return (proj_ab * rho_phi).tr()\n",
    "\n",
    "p(0, 1, 0, 1), p(1,0,1,0), p(0,0,1,1), p(0,0,0,0)"
   ]
  },
  {
   "cell_type": "markdown",
   "id": "16c00662",
   "metadata": {},
   "source": [
    "Note - the above has the definition of x swapped, so that when x=0, we project in the psi basis, and when x=1, we project in the logical basis"
   ]
  },
  {
   "cell_type": "markdown",
   "id": "73235348",
   "metadata": {},
   "source": [
    "# 2 Copies"
   ]
  },
  {
   "cell_type": "code",
   "execution_count": 125,
   "id": "749b2633",
   "metadata": {},
   "outputs": [
    {
     "data": {
      "text/latex": [
       "Quantum object: dims=[[2, 2, 2, 2], [1]], shape=(16, 1), type='ket', dtype=Dense$$\\left(\\begin{array}{cc}0\\\\0\\\\0\\\\0\\\\0\\\\\\vdots\\\\0.300\\\\0\\\\0.300\\\\0.300\\\\0.236\\end{array}\\right)$$"
      ],
      "text/plain": [
       "Quantum object: dims=[[2, 2, 2, 2], [1]], shape=(16, 1), type='ket', dtype=Dense\n",
       "Qobj data =\n",
       "[[0.        ]\n",
       " [0.        ]\n",
       " [0.        ]\n",
       " [0.        ]\n",
       " [0.        ]\n",
       " [0.38196601]\n",
       " [0.38196601]\n",
       " [0.30028311]\n",
       " [0.        ]\n",
       " [0.38196601]\n",
       " [0.38196601]\n",
       " [0.30028311]\n",
       " [0.        ]\n",
       " [0.30028311]\n",
       " [0.30028311]\n",
       " [0.23606798]]"
      ]
     },
     "execution_count": 125,
     "metadata": {},
     "output_type": "execute_result"
    }
   ],
   "source": [
    "def phi_n(n):\n",
    "    return qt.tensor([ket_phi] * n)\n",
    "\n",
    "phi_2 = phi_n(2)\n",
    "phi_2"
   ]
  },
  {
   "cell_type": "code",
   "execution_count": 126,
   "id": "738d8653",
   "metadata": {},
   "outputs": [],
   "source": [
    "def proj_ab_n(a_vals, b_vals, x, y):\n",
    "    n = len(a_vals)\n",
    "    projs_a = []\n",
    "    projs_b = []\n",
    "    for i in range(n):\n",
    "        a = a_vals[i]\n",
    "        b = b_vals[i]\n",
    "\n",
    "        if x == 1:\n",
    "            proj_a = proj_0 if a == 0 else proj_1\n",
    "        else:\n",
    "            proj_a = proj_psi if a == 0 else (1 - proj_psi)\n",
    "        projs_a.append(proj_a)\n",
    "\n",
    "        if y == 1:\n",
    "            proj_b = proj_0 if b == 0 else proj_1\n",
    "        else:\n",
    "            proj_b = proj_psi if b == 0 else (1 - proj_psi)\n",
    "        projs_b.append(proj_b)\n",
    "\n",
    "    return qt.tensor([qt.tensor(projs_a[i], projs_b[i]) for i in range(n)])\n",
    "\n",
    "\n",
    "def p_n(a_vals, b_vals, x, y):\n",
    "    n = len(a_vals)\n",
    "    assert len(b_vals) == n\n",
    "\n",
    "    proj_ab = proj_ab_n(a_vals, b_vals, x, y)\n",
    "    rho = phi_n(n) * phi_n(n).dag()\n",
    "    return (proj_ab * rho).tr()\n"
   ]
  },
  {
   "cell_type": "code",
   "execution_count": 127,
   "id": "23b16024",
   "metadata": {},
   "outputs": [
    {
     "data": {
      "text/plain": [
       "np.complex128(0.1722092687431651+0j)"
      ]
     },
     "execution_count": 127,
     "metadata": {},
     "output_type": "execute_result"
    }
   ],
   "source": [
    "# (a1 b1)(a2 b2) ... (an bn)\n",
    "# (00)(00) + (00)(01) + (00)(10) + (00)(11) + (01)(00) + (10)(00) + (11)(00)\n",
    "\n",
    "# (a1 a2) (b1 b2)\n",
    "# (00)(00) + (00)(01) + (01)(00) + (01)(01) + (00)(10) + (10)(00) + (10)(10)\n",
    "\n",
    "np.sum([p_n([0,0], [0,0], 0, 0),\n",
    "        p_n([0,0], [0,1], 0, 0),\n",
    "        p_n([0,1], [0,0], 0, 0),\n",
    "        p_n([0,1], [0,1], 0, 0),\n",
    "        p_n([0,0], [1,0], 0, 0),\n",
    "        p_n([1,0], [0,0], 0, 0),\n",
    "        p_n([1,0], [1,0], 0, 0)])"
   ]
  },
  {
   "cell_type": "markdown",
   "id": "be986b83",
   "metadata": {},
   "source": [
    "# N Copies"
   ]
  },
  {
   "cell_type": "code",
   "execution_count": 128,
   "id": "2dbd21e6",
   "metadata": {},
   "outputs": [
    {
     "data": {
      "text/plain": [
       "array([[[0, 0],\n",
       "        [0, 0],\n",
       "        [0, 0]],\n",
       "\n",
       "       [[0, 0],\n",
       "        [0, 0],\n",
       "        [0, 1]],\n",
       "\n",
       "       [[0, 0],\n",
       "        [0, 0],\n",
       "        [1, 0]],\n",
       "\n",
       "       [[0, 0],\n",
       "        [0, 0],\n",
       "        [1, 1]],\n",
       "\n",
       "       [[0, 0],\n",
       "        [0, 1],\n",
       "        [0, 0]],\n",
       "\n",
       "       [[0, 0],\n",
       "        [0, 1],\n",
       "        [0, 1]],\n",
       "\n",
       "       [[0, 0],\n",
       "        [0, 1],\n",
       "        [1, 0]],\n",
       "\n",
       "       [[0, 0],\n",
       "        [0, 1],\n",
       "        [1, 1]],\n",
       "\n",
       "       [[0, 0],\n",
       "        [1, 0],\n",
       "        [0, 0]],\n",
       "\n",
       "       [[0, 0],\n",
       "        [1, 0],\n",
       "        [0, 1]],\n",
       "\n",
       "       [[0, 0],\n",
       "        [1, 0],\n",
       "        [1, 0]],\n",
       "\n",
       "       [[0, 0],\n",
       "        [1, 0],\n",
       "        [1, 1]],\n",
       "\n",
       "       [[0, 0],\n",
       "        [1, 1],\n",
       "        [0, 0]],\n",
       "\n",
       "       [[0, 0],\n",
       "        [1, 1],\n",
       "        [0, 1]],\n",
       "\n",
       "       [[0, 0],\n",
       "        [1, 1],\n",
       "        [1, 0]],\n",
       "\n",
       "       [[0, 0],\n",
       "        [1, 1],\n",
       "        [1, 1]],\n",
       "\n",
       "       [[0, 1],\n",
       "        [0, 0],\n",
       "        [0, 0]],\n",
       "\n",
       "       [[0, 1],\n",
       "        [0, 0],\n",
       "        [0, 1]],\n",
       "\n",
       "       [[0, 1],\n",
       "        [0, 0],\n",
       "        [1, 0]],\n",
       "\n",
       "       [[0, 1],\n",
       "        [0, 0],\n",
       "        [1, 1]],\n",
       "\n",
       "       [[0, 1],\n",
       "        [0, 1],\n",
       "        [0, 0]],\n",
       "\n",
       "       [[0, 1],\n",
       "        [1, 0],\n",
       "        [0, 0]],\n",
       "\n",
       "       [[0, 1],\n",
       "        [1, 1],\n",
       "        [0, 0]],\n",
       "\n",
       "       [[1, 0],\n",
       "        [0, 0],\n",
       "        [0, 0]],\n",
       "\n",
       "       [[1, 0],\n",
       "        [0, 0],\n",
       "        [0, 1]],\n",
       "\n",
       "       [[1, 0],\n",
       "        [0, 0],\n",
       "        [1, 0]],\n",
       "\n",
       "       [[1, 0],\n",
       "        [0, 0],\n",
       "        [1, 1]],\n",
       "\n",
       "       [[1, 0],\n",
       "        [0, 1],\n",
       "        [0, 0]],\n",
       "\n",
       "       [[1, 0],\n",
       "        [1, 0],\n",
       "        [0, 0]],\n",
       "\n",
       "       [[1, 0],\n",
       "        [1, 1],\n",
       "        [0, 0]],\n",
       "\n",
       "       [[1, 1],\n",
       "        [0, 0],\n",
       "        [0, 0]],\n",
       "\n",
       "       [[1, 1],\n",
       "        [0, 0],\n",
       "        [0, 1]],\n",
       "\n",
       "       [[1, 1],\n",
       "        [0, 0],\n",
       "        [1, 0]],\n",
       "\n",
       "       [[1, 1],\n",
       "        [0, 0],\n",
       "        [1, 1]],\n",
       "\n",
       "       [[1, 1],\n",
       "        [0, 1],\n",
       "        [0, 0]],\n",
       "\n",
       "       [[1, 1],\n",
       "        [1, 0],\n",
       "        [0, 0]],\n",
       "\n",
       "       [[1, 1],\n",
       "        [1, 1],\n",
       "        [0, 0]]])"
      ]
     },
     "execution_count": 128,
     "metadata": {},
     "output_type": "execute_result"
    }
   ],
   "source": [
    "# Pairs of bits, times n, iff at least one pair of bits is (0,0)\n",
    "from itertools import product\n",
    "\n",
    "def get_sum_terms(n: int):\n",
    "    pairs = [(0,0), (0,1), (1,0), (1,1)]\n",
    "    all_terms = []\n",
    "    for seq in product(pairs, repeat=n):\n",
    "        if (0,0) in seq:\n",
    "            all_terms.append(list(seq))  # convert tuple to list\n",
    "    return np.array([list(list(t) for t in term) for term in all_terms])\n",
    "\n",
    "get_sum_terms(3)"
   ]
  },
  {
   "cell_type": "code",
   "execution_count": 130,
   "id": "ec560005",
   "metadata": {},
   "outputs": [
    {
     "data": {
      "text/plain": [
       "np.complex128(0.09016994374947418+0j)"
      ]
     },
     "execution_count": 130,
     "metadata": {},
     "output_type": "execute_result"
    }
   ],
   "source": [
    "np.sum([p_n(term.transpose()[0], term.transpose()[1], 0, 0) for term in get_sum_terms(1)])"
   ]
  },
  {
   "cell_type": "code",
   "execution_count": 131,
   "id": "1a5c8a77",
   "metadata": {},
   "outputs": [
    {
     "name": "stdout",
     "output_type": "stream",
     "text": [
      "0 0.0\n",
      "1 (0.09016994374947418+0j)\n",
      "2 (0.1722092687431651+0j)\n",
      "3 (0.24685111241693003+0j)\n",
      "4 (0.31476250524527466+0j)\n",
      "5 (0.37655033160233875+0j)\n"
     ]
    },
    {
     "ename": "KeyboardInterrupt",
     "evalue": "",
     "output_type": "error",
     "traceback": [
      "\u001b[31m---------------------------------------------------------------------------\u001b[39m",
      "\u001b[31mKeyboardInterrupt\u001b[39m                         Traceback (most recent call last)",
      "\u001b[36mCell\u001b[39m\u001b[36m \u001b[39m\u001b[32mIn[131]\u001b[39m\u001b[32m, line 2\u001b[39m\n\u001b[32m      1\u001b[39m \u001b[38;5;28;01mfor\u001b[39;00m i \u001b[38;5;129;01min\u001b[39;00m \u001b[38;5;28mrange\u001b[39m(\u001b[32m10\u001b[39m):\n\u001b[32m----> \u001b[39m\u001b[32m2\u001b[39m     \u001b[38;5;28mprint\u001b[39m(i, np.sum([\u001b[43mp_n\u001b[49m\u001b[43m(\u001b[49m\u001b[43mterm\u001b[49m\u001b[43m.\u001b[49m\u001b[43mtranspose\u001b[49m\u001b[43m(\u001b[49m\u001b[43m)\u001b[49m\u001b[43m[\u001b[49m\u001b[32;43m0\u001b[39;49m\u001b[43m]\u001b[49m\u001b[43m,\u001b[49m\u001b[43m \u001b[49m\u001b[43mterm\u001b[49m\u001b[43m.\u001b[49m\u001b[43mtranspose\u001b[49m\u001b[43m(\u001b[49m\u001b[43m)\u001b[49m\u001b[43m[\u001b[49m\u001b[32;43m1\u001b[39;49m\u001b[43m]\u001b[49m\u001b[43m,\u001b[49m\u001b[43m \u001b[49m\u001b[32;43m0\u001b[39;49m\u001b[43m,\u001b[49m\u001b[43m \u001b[49m\u001b[32;43m0\u001b[39;49m\u001b[43m)\u001b[49m \u001b[38;5;28;01mfor\u001b[39;00m term \u001b[38;5;129;01min\u001b[39;00m get_sum_terms(i)]))\n",
      "\u001b[36mCell\u001b[39m\u001b[36m \u001b[39m\u001b[32mIn[126]\u001b[39m\u001b[32m, line 30\u001b[39m, in \u001b[36mp_n\u001b[39m\u001b[34m(a_vals, b_vals, x, y)\u001b[39m\n\u001b[32m     28\u001b[39m proj_ab = proj_ab_n(a_vals, b_vals, x, y)\n\u001b[32m     29\u001b[39m rho = phi_n(n) * phi_n(n).dag()\n\u001b[32m---> \u001b[39m\u001b[32m30\u001b[39m \u001b[38;5;28;01mreturn\u001b[39;00m (\u001b[43mproj_ab\u001b[49m\u001b[43m \u001b[49m\u001b[43m*\u001b[49m\u001b[43m \u001b[49m\u001b[43mrho\u001b[49m).tr()\n",
      "\u001b[36mFile \u001b[39m\u001b[32m~/Documents/PhD/projects/bell-non-locality/.venv/lib/python3.13/site-packages/qutip/core/qobj.py:424\u001b[39m, in \u001b[36mQobj.__mul__\u001b[39m\u001b[34m(self, other)\u001b[39m\n\u001b[32m    417\u001b[39m \u001b[38;5;250m\u001b[39m\u001b[33;03m\"\"\"\u001b[39;00m\n\u001b[32m    418\u001b[39m \u001b[33;03mIf other is a Qobj, we dispatch to __matmul__. If not, we\u001b[39;00m\n\u001b[32m    419\u001b[39m \u001b[33;03mcheck that other is a valid complex scalar, i.e., we can do\u001b[39;00m\n\u001b[32m    420\u001b[39m \u001b[33;03mcomplex(other). Otherwise, we return NotImplemented.\u001b[39;00m\n\u001b[32m    421\u001b[39m \u001b[33;03m\"\"\"\u001b[39;00m\n\u001b[32m    423\u001b[39m \u001b[38;5;28;01mif\u001b[39;00m \u001b[38;5;28misinstance\u001b[39m(other, Qobj):\n\u001b[32m--> \u001b[39m\u001b[32m424\u001b[39m     \u001b[38;5;28;01mreturn\u001b[39;00m \u001b[38;5;28;43mself\u001b[39;49m\u001b[43m.\u001b[49m\u001b[34;43m__matmul__\u001b[39;49m\u001b[43m(\u001b[49m\u001b[43mother\u001b[49m\u001b[43m)\u001b[49m\n\u001b[32m    426\u001b[39m \u001b[38;5;66;03m# We send other to mul instead of complex(other) to be more flexible.\u001b[39;00m\n\u001b[32m    427\u001b[39m \u001b[38;5;66;03m# The dispatcher can then decide how to handle other and return\u001b[39;00m\n\u001b[32m    428\u001b[39m \u001b[38;5;66;03m# TypeError if it does not know what to do with the type of other.\u001b[39;00m\n\u001b[32m    429\u001b[39m \u001b[38;5;28;01mtry\u001b[39;00m:\n",
      "\u001b[36mFile \u001b[39m\u001b[32m~/Documents/PhD/projects/bell-non-locality/.venv/lib/python3.13/site-packages/qutip/core/qobj.py:473\u001b[39m, in \u001b[36mQobj.__matmul__\u001b[39m\u001b[34m(self, other)\u001b[39m\n\u001b[32m    464\u001b[39m \u001b[38;5;28;01mif\u001b[39;00m \u001b[38;5;28mself\u001b[39m.isket \u001b[38;5;129;01mand\u001b[39;00m other.isbra:\n\u001b[32m    465\u001b[39m     \u001b[38;5;28;01mreturn\u001b[39;00m Qobj(\n\u001b[32m    466\u001b[39m         _data.matmul_outer(\u001b[38;5;28mself\u001b[39m._data, other._data),\n\u001b[32m    467\u001b[39m         dims=new_dims,\n\u001b[32m    468\u001b[39m         isunitary=\u001b[38;5;28;01mFalse\u001b[39;00m,\n\u001b[32m    469\u001b[39m         copy=\u001b[38;5;28;01mFalse\u001b[39;00m\n\u001b[32m    470\u001b[39m     )\n\u001b[32m    472\u001b[39m \u001b[38;5;28;01mreturn\u001b[39;00m Qobj(\n\u001b[32m--> \u001b[39m\u001b[32m473\u001b[39m     \u001b[43m_data\u001b[49m\u001b[43m.\u001b[49m\u001b[43mmatmul\u001b[49m\u001b[43m(\u001b[49m\u001b[38;5;28;43mself\u001b[39;49m\u001b[43m.\u001b[49m\u001b[43m_data\u001b[49m\u001b[43m,\u001b[49m\u001b[43m \u001b[49m\u001b[43mother\u001b[49m\u001b[43m.\u001b[49m\u001b[43m_data\u001b[49m\u001b[43m)\u001b[49m,\n\u001b[32m    474\u001b[39m     dims=new_dims,\n\u001b[32m    475\u001b[39m     isunitary=\u001b[38;5;28mself\u001b[39m._isunitary \u001b[38;5;129;01mand\u001b[39;00m other._isunitary,\n\u001b[32m    476\u001b[39m     copy=\u001b[38;5;28;01mFalse\u001b[39;00m\n\u001b[32m    477\u001b[39m )\n",
      "\u001b[31mKeyboardInterrupt\u001b[39m: "
     ]
    }
   ],
   "source": [
    "for i in range(10):\n",
    "    print(i, np.sum([p_n(term.transpose()[0], term.transpose()[1], 0, 0) for term in get_sum_terms(i)]))"
   ]
  }
 ],
 "metadata": {
  "kernelspec": {
   "display_name": ".venv",
   "language": "python",
   "name": "python3"
  },
  "language_info": {
   "codemirror_mode": {
    "name": "ipython",
    "version": 3
   },
   "file_extension": ".py",
   "mimetype": "text/x-python",
   "name": "python",
   "nbconvert_exporter": "python",
   "pygments_lexer": "ipython3",
   "version": "3.13.5"
  }
 },
 "nbformat": 4,
 "nbformat_minor": 5
}
